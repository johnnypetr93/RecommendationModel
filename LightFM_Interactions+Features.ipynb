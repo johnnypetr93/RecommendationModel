{
 "cells": [
  {
   "cell_type": "code",
   "execution_count": 1,
   "id": "ab74d637",
   "metadata": {},
   "outputs": [
    {
     "name": "stderr",
     "output_type": "stream",
     "text": [
      "/Users/janpetr/anaconda3/lib/python3.11/site-packages/lightfm/_lightfm_fast.py:9: UserWarning: LightFM was compiled without OpenMP support. Only a single thread will be used.\n",
      "  warnings.warn(\n"
     ]
    }
   ],
   "source": [
    "import pandas as pd\n",
    "import numpy as np\n",
    "\n",
    "from sklearn.metrics.pairwise import cosine_similarity\n",
    "from sklearn.model_selection import train_test_split\n",
    "from sklearn.feature_extraction.text import CountVectorizer, TfidfVectorizer\n",
    "from sklearn.metrics.pairwise import cosine_similarity\n",
    "\n",
    "from lightfm import LightFM, cross_validation\n",
    "from lightfm.evaluation import auc_score, precision_at_k, recall_at_k\n",
    "from lightfm.data import Dataset\n",
    "\n",
    "from matplotlib import pyplot as plt\n",
    "from scipy.stats import mode\n",
    "\n",
    "import nltk\n",
    "from nltk.corpus import stopwords\n",
    "\n",
    "from enum import Enum, auto\n",
    "from ipywidgets import Dropdown\n",
    "import pickle"
   ]
  },
  {
   "cell_type": "markdown",
   "id": "55b92c92",
   "metadata": {},
   "source": [
    "## 🔥 Models used:\n",
    "- <b>LightFM</b> due to its ability to combine collaborative filtering with user and item features. Perfect for tackling the cold-start problem.\n",
    "- <b>Cosine Similarity</b> for its ability to effectivelly recommend products based on item metadata."
   ]
  },
  {
   "cell_type": "markdown",
   "id": "acc391f3",
   "metadata": {},
   "source": [
    "<h1>🔥 Table of contents:</h1>\n",
    "\n",
    "<ul>\n",
    "    \n",
    "- Data exploration, data preprocessing, input preparation for LightFM\n",
    "- LightFM\n",
    "    - Model training\n",
    "    - Performance evaluation\n",
    "    - Predictions for random user within the dataset\n",
    "    - Predictions for new user based on ratings\n",
    "    - Predictions for new user without ratings, based on user features (Cold start problem)\n",
    "    - Model saving and description of productionalization\n",
    "    \n",
    "- Cosine Similarity\n",
    "    - Recommendation based on metadata similarity\n",
    "    - Extending metadata by OpenAI API data (genre, pages no., keywords)\n",
    "- Productionalisation description\n",
    "</ul>"
   ]
  },
  {
   "cell_type": "markdown",
   "id": "2439b201",
   "metadata": {},
   "source": [
    "# Methods"
   ]
  },
  {
   "cell_type": "code",
   "execution_count": 2,
   "id": "14d8a7d4",
   "metadata": {},
   "outputs": [],
   "source": [
    "class PredictionType(Enum):\n",
    "    WORST = auto()\n",
    "    BEST = auto()"
   ]
  },
  {
   "cell_type": "code",
   "execution_count": 3,
   "id": "797db398",
   "metadata": {},
   "outputs": [],
   "source": [
    "def interactions_filtering(dataset):\n",
    "    \"\"\"\n",
    "    Apply only on the training and validation dataset. We do not apply on test dataset - new interactions.\n",
    "    \n",
    "    Steps:\n",
    "    - Removing interactions between Books and Users which are not in their respective datasets\n",
    "    - Keeping only explicit feedback, removing implicit -> increase in effectiveness metrics\n",
    "    - Keeping only Books that were rated 10 times or more -> increase in effectiveness metrics\n",
    "    - Keeping only Users that rated 10 items or more -> increase in effectiveness metrics\n",
    "    - Reducing the size of the dataset for memory reasons    \n",
    "    \"\"\"\n",
    "    \n",
    "    # Define common ISBNs and User-IDs\n",
    "    common_ids_isbn = pd.merge(ratings, books, on=\"ISBN\", how=\"inner\")[\"ISBN\"].unique()\n",
    "    common_ids_userid = pd.merge(ratings, users, on=\"User-ID\", how=\"inner\")[\"User-ID\"].unique()\n",
    "\n",
    "    # Remove interactions\n",
    "    dataset = dataset[dataset[\"ISBN\"].isin(common_ids_isbn) & dataset[\"User-ID\"].isin(common_ids_userid)]\n",
    "    \n",
    "    # Only explicit feedback\n",
    "    dataset = dataset[dataset[\"Book-Rating\"] > 0]\n",
    "    \n",
    "    # Books rated 10 times and more\n",
    "    dataset = dataset.groupby(\"ISBN\").filter(lambda x: len(x)>=10)\n",
    "    \n",
    "    # Users who rated 10 items and more\n",
    "    dataset = dataset[dataset.groupby(\"User-ID\").ISBN.transform('nunique')>=10]\n",
    "    \n",
    "    # Size of the dataset\n",
    "    #if len(dataset) > 100000:\n",
    "    #    dataset = dataset.sample(100000)\n",
    "    \n",
    "    return dataset\n",
    "\n",
    "def interactions_preprocessing(dataset):\n",
    "    \"\"\"\n",
    "    Apply on training, validation and test dataset.\n",
    "    \n",
    "    Preprocessing steps:\n",
    "    - Keep only ratings that lead to potential recommendations (7+).\n",
    "    - Square the ratings to increase the importance of positive ratings and decrease the importance of negative ratings.\n",
    "    - Each user has a different baseline rating. Cleanse based on baseline ratings.\n",
    "\n",
    "    Disclaimer: None of the steps had a positive impact on the metrics. Eventually none were implemented.\n",
    "    \"\"\"\n",
    "    \n",
    "    # Keeping original state of the rating (for printing)\n",
    "    dataset[\"OriginalRating\"] = dataset[\"Book-Rating\"]\n",
    "    \n",
    "    # Keep only ratings 7+\n",
    "    #dataset = dataset[dataset[\"Book-Rating\"]>7]\n",
    "    \n",
    "    # Square  \n",
    "    #dataset[\"Book-Rating\"] = dataset[\"Book-Rating\"].transform(lambda x: x*x)\n",
    "    \n",
    "    # Cleanse based on baseline ratings\n",
    "    #dataset[\"Book-Rating\"] = dataset.groupby(\"User-ID\")[\"Book-Rating\"].transform(lambda x: (x - x.mean()) / x.std()) #\" \"\n",
    "    #dataset[\"Book-Rating\"] = dataset[\"Book-Rating\"].fillna(0)\n",
    "    \n",
    "    return dataset\n",
    "\n",
    "def split_location(location):\n",
    "    \"\"\"\n",
    "    Splitting location tag based on divider. Keeping only the last three.\n",
    "    \"\"\"\n",
    "    parts = location.split(\",\")\n",
    "\n",
    "    while len(parts) < 3:\n",
    "        parts.insert(0, \"\")  \n",
    "    city = parts[-3].strip() if parts[-1] else \"\" \n",
    "    region = parts[-2].strip() if len(parts) > 1 and parts[-2] else \"\"\n",
    "    country = parts[-1].strip() if len(parts) > 2 and parts[-3] else \"\"\n",
    "    \n",
    "    return pd.Series([city, region, country], index=['city', 'region', 'country'])\n",
    "\n",
    "def age_bucket(age):\n",
    "    \"\"\"\n",
    "    Rounding to the nearest 10.\n",
    "    \"\"\"\n",
    "    age = round(age/10)*10\n",
    "    return age\n",
    "\n",
    "def build_interactions(dataframe, dataset):\n",
    "    \"\"\"\n",
    "    Preparing interactions for LightFM's desired input.\n",
    "    \"\"\"\n",
    "    dataset_tuple = list(zip(dataframe[\"User-ID\"], dataframe[\"ISBN\"], dataframe[\"Book-Rating\"]))\n",
    "    interactions, weights = dataset.build_interactions(i for i in dataset_tuple)\n",
    "    return interactions, weights\n",
    "\n",
    "def check_isbns(isbn_list):\n",
    "    \"\"\"\n",
    "    Check if an ISBN from new interactions is part of the books dataset.\n",
    "    \"\"\"\n",
    "    isbn_set = set(isbn_list)\n",
    "    books_isbn_set = set(books[\"ISBN\"])\n",
    "    \n",
    "    common_isbns = isbn_set.intersection(books_isbn_set)\n",
    "    \n",
    "    invalid_isbns = [x for x in isbn_set if x not in books_isbn_set]\n",
    "    \n",
    "    print(f\"{len(common_isbns)}/{len(isbn_set)} valid ISBNs.\")\n",
    "    \n",
    "    if len(common_isbns) != len(isbn_set):\n",
    "        print(\"\")\n",
    "        print (\"Invalid ISBNs:\")\n",
    "        for isbn in invalid_isbns:\n",
    "            print(isbn)\n",
    "\n",
    "def previous_ratings(userid, noitems=None):\n",
    "    \"\"\"\n",
    "    Prints user's previous ratings.\n",
    "    \"\"\"\n",
    "    user_ratings = ratings[ratings[\"User-ID\"]==userid]\n",
    "    user_books = pd.merge(user_ratings, books, on=\"ISBN\")\n",
    "    user_books = user_books.sort_values(by=\"Book-Rating\", ascending=False)\n",
    "    \n",
    "    if noitems is not None:\n",
    "        user_books = user_books[:noitems]\n",
    "\n",
    "    print(f\"User ID: {userid}. Previous ratings (highest to lowest):\")\n",
    "\n",
    "    for _, row in user_books.iterrows():\n",
    "        print(f\"- {int((row['OriginalRating']))}*, {row['Book-Title']}, {row['Book-Author']}, {row['Year-Of-Publication']} (ISBN: {row['ISBN']})\")\n",
    "        \n",
    "def prediction(userid, where, noitems, remove_rated):\n",
    "    \"\"\"\n",
    "    Prints user's predictions.\n",
    "    \n",
    "    Inputs\n",
    "    - User ID (int)\n",
    "    - Where - BEST or WORST performing (enum PredictionType.BEST / WORST)\n",
    "    - Number of printed items (int)\n",
    "    - Remove already rated items (True/False)\n",
    "    \"\"\"\n",
    "    \n",
    "    # Transforming User ID from original datasets to LightFM's internal IDs\n",
    "    usercode = user_id_map.get(userid)\n",
    "    \n",
    "    # Predict values for all items in dataset\n",
    "    _, n_items = train_interactions.shape\n",
    "    scores = pd.Series(model.predict(usercode,np.arange(n_items)))\n",
    "\n",
    "    items = pd.DataFrame(scores)\n",
    "\n",
    "    items.index = items.index.map(item_id_inverse_map)\n",
    "    items = items.reset_index(names=\"ISBN\").rename(columns={0: \"prob\"})\n",
    "\n",
    "    # Remove rated\n",
    "    if remove_rated == True:\n",
    "        ratedisbn = ratings[ratings[\"User-ID\"]==userid][\"ISBN\"]\n",
    "    elif remove_rated == False:\n",
    "        ratedisbn = []\n",
    "\n",
    "    booksfinal = pd.merge(books,items,on=\"ISBN\",how=\"inner\")\n",
    "\n",
    "    # Which tail to print (Highest or Lowest predictions)\n",
    "    if where == PredictionType.BEST:\n",
    "        booksfinal = booksfinal.sort_values(by=\"prob\", ascending=False)\n",
    "        print(f\"Predicted: best {noitems}:\")\n",
    "    elif where == PredictionType.WORST:\n",
    "        booksfinal = booksfinal.sort_values(by=\"prob\", ascending=True)\n",
    "        print(f\"Predictd: worst {noitems}:\")\n",
    "\n",
    "    for _, row in booksfinal[~booksfinal[\"ISBN\"].isin(ratedisbn)][:noitems].iterrows():\n",
    "        print(f\"- {row['Book-Title']}, {row['Book-Author']}, {row['Year-Of-Publication']} (ISBN: {row['ISBN']}) {row['prob']}\")\n",
    "        \n",
    "def get_mode(series):\n",
    "    return mode(series)[0]\n",
    "\n",
    "# Cosine Similarity \n",
    "vectorizer = CountVectorizer(analyzer='char', ngram_range=(1, 2))\n",
    "def find_similarity(book1, book2):\n",
    "    \"\"\"\n",
    "    Find similar items based on content string.\n",
    "    \"\"\"\n",
    "    vectorized_data = vectorizer.fit_transform([book1, book2])\n",
    "    cosine_sim = cosine_similarity(vectorized_data[0], vectorized_data[1])\n",
    "    return cosine_sim[0][0]"
   ]
  },
  {
   "cell_type": "markdown",
   "id": "ffdbbf1c",
   "metadata": {},
   "source": [
    "<h1>Data Reading and Exploration</h1>"
   ]
  },
  {
   "cell_type": "code",
   "execution_count": 4,
   "id": "47c4abe1",
   "metadata": {
    "scrolled": true
   },
   "outputs": [
    {
     "name": "stderr",
     "output_type": "stream",
     "text": [
      "/var/folders/g4/1x4xl1_92cj02tdf3gqfw5qm0000gn/T/ipykernel_64749/4156181754.py:2: DtypeWarning: Columns (3) have mixed types. Specify dtype option on import or set low_memory=False.\n",
      "  books = pd.read_csv('data/Books.csv')\n"
     ]
    }
   ],
   "source": [
    "ratings = pd.read_csv(\"data/Ratings.csv\")\n",
    "books = pd.read_csv('data/Books.csv')\n",
    "users = pd.read_csv(\"data/Users.csv\")"
   ]
  },
  {
   "cell_type": "markdown",
   "id": "f8df6b59",
   "metadata": {},
   "source": [
    "## Ratings"
   ]
  },
  {
   "cell_type": "code",
   "execution_count": 5,
   "id": "9b53d4bd",
   "metadata": {},
   "outputs": [
    {
     "data": {
      "text/html": [
       "<div>\n",
       "<style scoped>\n",
       "    .dataframe tbody tr th:only-of-type {\n",
       "        vertical-align: middle;\n",
       "    }\n",
       "\n",
       "    .dataframe tbody tr th {\n",
       "        vertical-align: top;\n",
       "    }\n",
       "\n",
       "    .dataframe thead th {\n",
       "        text-align: right;\n",
       "    }\n",
       "</style>\n",
       "<table border=\"1\" class=\"dataframe\">\n",
       "  <thead>\n",
       "    <tr style=\"text-align: right;\">\n",
       "      <th></th>\n",
       "      <th>User-ID</th>\n",
       "      <th>ISBN</th>\n",
       "      <th>Book-Rating</th>\n",
       "    </tr>\n",
       "  </thead>\n",
       "  <tbody>\n",
       "    <tr>\n",
       "      <th>0</th>\n",
       "      <td>276725</td>\n",
       "      <td>034545104X</td>\n",
       "      <td>0</td>\n",
       "    </tr>\n",
       "    <tr>\n",
       "      <th>1</th>\n",
       "      <td>276726</td>\n",
       "      <td>0155061224</td>\n",
       "      <td>5</td>\n",
       "    </tr>\n",
       "    <tr>\n",
       "      <th>2</th>\n",
       "      <td>276727</td>\n",
       "      <td>0446520802</td>\n",
       "      <td>0</td>\n",
       "    </tr>\n",
       "    <tr>\n",
       "      <th>3</th>\n",
       "      <td>276729</td>\n",
       "      <td>052165615X</td>\n",
       "      <td>3</td>\n",
       "    </tr>\n",
       "    <tr>\n",
       "      <th>4</th>\n",
       "      <td>276729</td>\n",
       "      <td>0521795028</td>\n",
       "      <td>6</td>\n",
       "    </tr>\n",
       "  </tbody>\n",
       "</table>\n",
       "</div>"
      ],
      "text/plain": [
       "   User-ID        ISBN  Book-Rating\n",
       "0   276725  034545104X            0\n",
       "1   276726  0155061224            5\n",
       "2   276727  0446520802            0\n",
       "3   276729  052165615X            3\n",
       "4   276729  0521795028            6"
      ]
     },
     "execution_count": 5,
     "metadata": {},
     "output_type": "execute_result"
    }
   ],
   "source": [
    "ratings.head(5)"
   ]
  },
  {
   "cell_type": "code",
   "execution_count": 6,
   "id": "745d72df",
   "metadata": {},
   "outputs": [
    {
     "name": "stdout",
     "output_type": "stream",
     "text": [
      "0\n",
      "0\n",
      "0\n"
     ]
    }
   ],
   "source": [
    "print(ratings[\"User-ID\"].isna().sum())\n",
    "print(ratings[\"ISBN\"].isna().sum())\n",
    "print(ratings[\"Book-Rating\"].isna().sum())"
   ]
  },
  {
   "cell_type": "code",
   "execution_count": 7,
   "id": "f61b61b0",
   "metadata": {},
   "outputs": [
    {
     "name": "stdout",
     "output_type": "stream",
     "text": [
      "Number of Explicit ratings (rating):  433671\n",
      "Number of Implicit ratings (product page view,...):   716109\n"
     ]
    }
   ],
   "source": [
    "print(\"Number of Explicit ratings (rating): \",len(ratings[ratings[\"Book-Rating\"]>0]))\n",
    "print(\"Number of Implicit ratings (product page view,...):  \",len(ratings[ratings[\"Book-Rating\"]==0]))"
   ]
  },
  {
   "cell_type": "code",
   "execution_count": 8,
   "id": "ec92d937",
   "metadata": {},
   "outputs": [],
   "source": [
    "ratings_frequency = ratings[ratings[\"Book-Rating\"]>0].groupby(\"User-ID\")[\"ISBN\"].nunique()\n",
    "\n",
    "bins = [0, 1, 2, 3, 4, 5, 6, 7, 8, 9, 10, 15, 25, 50, 100, 500, 1000, 10000]\n",
    "\n",
    "labels = ['1', '2', '3', '4', '5', '6', '7', '8', '9', '10', '11-15', '16-25', '26-50', '51-100', '101-500', '501-1000', '1001-10000']\n",
    "\n",
    "categorized = pd.cut(ratings_frequency, bins=bins, labels=labels, right=True)\n",
    "\n",
    "category_counts = categorized.value_counts().sort_index()"
   ]
  },
  {
   "cell_type": "code",
   "execution_count": 9,
   "id": "b6c429e3",
   "metadata": {
    "scrolled": false
   },
   "outputs": [
    {
     "data": {
      "image/png": "[encoded data removed]",
      "text/plain": [
       "<Figure size 640x480 with 1 Axes>"
      ]
     },
     "metadata": {},
     "output_type": "display_data"
    }
   ],
   "source": [
    "category_counts.plot(kind=\"bar\")\n",
    "plt.ylabel(\"Number of users\")\n",
    "plt.xlabel(\"Number of ratings per user\")\n",
    "plt.show()"
   ]
  },
  {
   "cell_type": "markdown",
   "id": "2387395e",
   "metadata": {},
   "source": [
    "# 🔥\n",
    "- Huge portion of the dataset consists of users who rated only 1 item.\n",
    "- This would lead to the user-item interaction matrix being to sparse, meaning too many blank spaces.\n",
    "- The more dense (the opposite of sparse) the dataset is, the better for training collaborative-filtering models."
   ]
  },
  {
   "cell_type": "code",
   "execution_count": 10,
   "id": "d2ecc9e5",
   "metadata": {},
   "outputs": [
    {
     "name": "stdout",
     "output_type": "stream",
     "text": [
      "Missing 0 users from Users dataset.\n",
      "Missing 173575 users from Ratings dataset.\n"
     ]
    }
   ],
   "source": [
    "missing_from_users = ratings[~ratings['User-ID'].isin(users['User-ID'])]['User-ID'].unique()\n",
    "missing_from_ratings_users = users[~users['User-ID'].isin(ratings['User-ID'])]['User-ID'].unique()\n",
    "\n",
    "print(\"Missing\",len(missing_from_users),\"users from Users dataset.\")\n",
    "print(\"Missing\",len(missing_from_ratings_users),\"users from Ratings dataset.\")"
   ]
  },
  {
   "cell_type": "code",
   "execution_count": 11,
   "id": "5a31191b",
   "metadata": {},
   "outputs": [
    {
     "name": "stdout",
     "output_type": "stream",
     "text": [
      "Missing 70405 books from Books dataset.\n",
      "Missing 1209 books from Ratings dataset.\n"
     ]
    }
   ],
   "source": [
    "missing_from_books = ratings[~ratings['ISBN'].isin(books['ISBN'])]['ISBN'].unique()\n",
    "missing_from_ratings_books = books[~books['ISBN'].isin(ratings['ISBN'])]['ISBN'].unique()\n",
    "\n",
    "print(\"Missing\",len(missing_from_books),\"books from Books dataset.\")\n",
    "print(\"Missing\",len(missing_from_ratings_books),\"books from Ratings dataset.\")"
   ]
  },
  {
   "cell_type": "markdown",
   "id": "9c027355",
   "metadata": {},
   "source": [
    "## Users"
   ]
  },
  {
   "cell_type": "code",
   "execution_count": 12,
   "id": "7bccfbb0",
   "metadata": {},
   "outputs": [
    {
     "data": {
      "text/html": [
       "<div>\n",
       "<style scoped>\n",
       "    .dataframe tbody tr th:only-of-type {\n",
       "        vertical-align: middle;\n",
       "    }\n",
       "\n",
       "    .dataframe tbody tr th {\n",
       "        vertical-align: top;\n",
       "    }\n",
       "\n",
       "    .dataframe thead th {\n",
       "        text-align: right;\n",
       "    }\n",
       "</style>\n",
       "<table border=\"1\" class=\"dataframe\">\n",
       "  <thead>\n",
       "    <tr style=\"text-align: right;\">\n",
       "      <th></th>\n",
       "      <th>User-ID</th>\n",
       "      <th>Location</th>\n",
       "      <th>Age</th>\n",
       "    </tr>\n",
       "  </thead>\n",
       "  <tbody>\n",
       "    <tr>\n",
       "      <th>0</th>\n",
       "      <td>1</td>\n",
       "      <td>nyc, new york, usa</td>\n",
       "      <td>NaN</td>\n",
       "    </tr>\n",
       "    <tr>\n",
       "      <th>1</th>\n",
       "      <td>2</td>\n",
       "      <td>stockton, california, usa</td>\n",
       "      <td>18.0</td>\n",
       "    </tr>\n",
       "    <tr>\n",
       "      <th>2</th>\n",
       "      <td>3</td>\n",
       "      <td>moscow, yukon territory, russia</td>\n",
       "      <td>NaN</td>\n",
       "    </tr>\n",
       "    <tr>\n",
       "      <th>3</th>\n",
       "      <td>4</td>\n",
       "      <td>porto, v.n.gaia, portugal</td>\n",
       "      <td>17.0</td>\n",
       "    </tr>\n",
       "    <tr>\n",
       "      <th>4</th>\n",
       "      <td>5</td>\n",
       "      <td>farnborough, hants, united kingdom</td>\n",
       "      <td>NaN</td>\n",
       "    </tr>\n",
       "  </tbody>\n",
       "</table>\n",
       "</div>"
      ],
      "text/plain": [
       "   User-ID                            Location   Age\n",
       "0        1                  nyc, new york, usa   NaN\n",
       "1        2           stockton, california, usa  18.0\n",
       "2        3     moscow, yukon territory, russia   NaN\n",
       "3        4           porto, v.n.gaia, portugal  17.0\n",
       "4        5  farnborough, hants, united kingdom   NaN"
      ]
     },
     "execution_count": 12,
     "metadata": {},
     "output_type": "execute_result"
    }
   ],
   "source": [
    "users.head(5)"
   ]
  },
  {
   "cell_type": "code",
   "execution_count": 13,
   "id": "a896b88b",
   "metadata": {},
   "outputs": [
    {
     "data": {
      "text/plain": [
       "User-ID          0\n",
       "Location         0\n",
       "Age         110762\n",
       "dtype: int64"
      ]
     },
     "execution_count": 13,
     "metadata": {},
     "output_type": "execute_result"
    }
   ],
   "source": [
    "users.isna().sum()"
   ]
  },
  {
   "cell_type": "code",
   "execution_count": 14,
   "id": "2aeeaf00",
   "metadata": {},
   "outputs": [
    {
     "name": "stdout",
     "output_type": "stream",
     "text": [
      "39.71985741847105 % of the Age feature is empty.\n"
     ]
    }
   ],
   "source": [
    "print((users[\"Age\"].isna().sum()/len(users))*100,\"% of the Age feature is empty.\")"
   ]
  },
  {
   "cell_type": "code",
   "execution_count": 15,
   "id": "1e89d7f9",
   "metadata": {},
   "outputs": [
    {
     "data": {
      "text/plain": [
       "Age\n",
       "24.0     5687\n",
       "25.0     5618\n",
       "26.0     5547\n",
       "23.0     5456\n",
       "27.0     5383\n",
       "         ... \n",
       "168.0       1\n",
       "132.0       1\n",
       "159.0       1\n",
       "186.0       1\n",
       "127.0       1\n",
       "Name: count, Length: 165, dtype: int64"
      ]
     },
     "execution_count": 15,
     "metadata": {},
     "output_type": "execute_result"
    }
   ],
   "source": [
    "users[\"Age\"].value_counts()"
   ]
  },
  {
   "cell_type": "code",
   "execution_count": 16,
   "id": "b2aab690",
   "metadata": {},
   "outputs": [
    {
     "name": "stdout",
     "output_type": "stream",
     "text": [
      "Minimum age: 0.0\n",
      "Maximum age: 244.0\n"
     ]
    }
   ],
   "source": [
    "print(\"Minimum age:\", min(users[\"Age\"].dropna().values))\n",
    "print(\"Maximum age:\", max(users[\"Age\"].dropna().values))"
   ]
  },
  {
   "cell_type": "code",
   "execution_count": 17,
   "id": "df00cf36",
   "metadata": {},
   "outputs": [
    {
     "name": "stdout",
     "output_type": "stream",
     "text": [
      "34.75143370454978\n",
      "32.0\n",
      "24.0\n"
     ]
    }
   ],
   "source": [
    "print(users[\"Age\"].mean())\n",
    "print(users[\"Age\"].median())\n",
    "print(users[\"Age\"].mode()[0])"
   ]
  },
  {
   "cell_type": "code",
   "execution_count": 18,
   "id": "f50d1368",
   "metadata": {},
   "outputs": [
    {
     "data": {
      "text/plain": [
       "Location\n",
       "2    277348\n",
       "3      1417\n",
       "4        72\n",
       "5        11\n",
       "6         4\n",
       "7         2\n",
       "8         2\n",
       "1         1\n",
       "0         1\n",
       "Name: count, dtype: int64"
      ]
     },
     "execution_count": 18,
     "metadata": {},
     "output_type": "execute_result"
    }
   ],
   "source": [
    "counts = users[\"Location\"].apply(lambda item: item.count(','))\n",
    "counts.value_counts()"
   ]
  },
  {
   "cell_type": "markdown",
   "id": "215d7720",
   "metadata": {},
   "source": [
    "# 🔥\n",
    "- Given the proportion of missing values, it's better to impute values than drop users.\n",
    "- No other relevant info within this dataset to impute missing values based on.\n",
    "- Idea: impute by ratings similarity.\n",
    "- We need to take care of Age outliers.\n",
    "- Location is mostly split between three values but can be split up to nine values. Need to take that into consideration when deriving City, Region and Country out of it."
   ]
  },
  {
   "cell_type": "markdown",
   "id": "a6208bc9",
   "metadata": {},
   "source": [
    "## Books"
   ]
  },
  {
   "cell_type": "code",
   "execution_count": 19,
   "id": "73089b86",
   "metadata": {},
   "outputs": [
    {
     "data": {
      "text/html": [
       "<div>\n",
       "<style scoped>\n",
       "    .dataframe tbody tr th:only-of-type {\n",
       "        vertical-align: middle;\n",
       "    }\n",
       "\n",
       "    .dataframe tbody tr th {\n",
       "        vertical-align: top;\n",
       "    }\n",
       "\n",
       "    .dataframe thead th {\n",
       "        text-align: right;\n",
       "    }\n",
       "</style>\n",
       "<table border=\"1\" class=\"dataframe\">\n",
       "  <thead>\n",
       "    <tr style=\"text-align: right;\">\n",
       "      <th></th>\n",
       "      <th>ISBN</th>\n",
       "      <th>Book-Title</th>\n",
       "      <th>Book-Author</th>\n",
       "      <th>Year-Of-Publication</th>\n",
       "      <th>Publisher</th>\n",
       "      <th>Image-URL-S</th>\n",
       "      <th>Image-URL-M</th>\n",
       "      <th>Image-URL-L</th>\n",
       "    </tr>\n",
       "  </thead>\n",
       "  <tbody>\n",
       "    <tr>\n",
       "      <th>0</th>\n",
       "      <td>0195153448</td>\n",
       "      <td>Classical Mythology</td>\n",
       "      <td>Mark P. O. Morford</td>\n",
       "      <td>2002</td>\n",
       "      <td>Oxford University Press</td>\n",
       "      <td>http://images.amazon.com/images/P/0195153448.0...</td>\n",
       "      <td>http://images.amazon.com/images/P/0195153448.0...</td>\n",
       "      <td>http://images.amazon.com/images/P/0195153448.0...</td>\n",
       "    </tr>\n",
       "    <tr>\n",
       "      <th>1</th>\n",
       "      <td>0002005018</td>\n",
       "      <td>Clara Callan</td>\n",
       "      <td>Richard Bruce Wright</td>\n",
       "      <td>2001</td>\n",
       "      <td>HarperFlamingo Canada</td>\n",
       "      <td>http://images.amazon.com/images/P/0002005018.0...</td>\n",
       "      <td>http://images.amazon.com/images/P/0002005018.0...</td>\n",
       "      <td>http://images.amazon.com/images/P/0002005018.0...</td>\n",
       "    </tr>\n",
       "    <tr>\n",
       "      <th>2</th>\n",
       "      <td>0060973129</td>\n",
       "      <td>Decision in Normandy</td>\n",
       "      <td>Carlo D'Este</td>\n",
       "      <td>1991</td>\n",
       "      <td>HarperPerennial</td>\n",
       "      <td>http://images.amazon.com/images/P/0060973129.0...</td>\n",
       "      <td>http://images.amazon.com/images/P/0060973129.0...</td>\n",
       "      <td>http://images.amazon.com/images/P/0060973129.0...</td>\n",
       "    </tr>\n",
       "    <tr>\n",
       "      <th>3</th>\n",
       "      <td>0374157065</td>\n",
       "      <td>Flu: The Story of the Great Influenza Pandemic...</td>\n",
       "      <td>Gina Bari Kolata</td>\n",
       "      <td>1999</td>\n",
       "      <td>Farrar Straus Giroux</td>\n",
       "      <td>http://images.amazon.com/images/P/0374157065.0...</td>\n",
       "      <td>http://images.amazon.com/images/P/0374157065.0...</td>\n",
       "      <td>http://images.amazon.com/images/P/0374157065.0...</td>\n",
       "    </tr>\n",
       "    <tr>\n",
       "      <th>4</th>\n",
       "      <td>0393045218</td>\n",
       "      <td>The Mummies of Urumchi</td>\n",
       "      <td>E. J. W. Barber</td>\n",
       "      <td>1999</td>\n",
       "      <td>W. W. Norton &amp;amp; Company</td>\n",
       "      <td>http://images.amazon.com/images/P/0393045218.0...</td>\n",
       "      <td>http://images.amazon.com/images/P/0393045218.0...</td>\n",
       "      <td>http://images.amazon.com/images/P/0393045218.0...</td>\n",
       "    </tr>\n",
       "  </tbody>\n",
       "</table>\n",
       "</div>"
      ],
      "text/plain": [
       "         ISBN                                         Book-Title  \\\n",
       "0  0195153448                                Classical Mythology   \n",
       "1  0002005018                                       Clara Callan   \n",
       "2  0060973129                               Decision in Normandy   \n",
       "3  0374157065  Flu: The Story of the Great Influenza Pandemic...   \n",
       "4  0393045218                             The Mummies of Urumchi   \n",
       "\n",
       "            Book-Author Year-Of-Publication                   Publisher  \\\n",
       "0    Mark P. O. Morford                2002     Oxford University Press   \n",
       "1  Richard Bruce Wright                2001       HarperFlamingo Canada   \n",
       "2          Carlo D'Este                1991             HarperPerennial   \n",
       "3      Gina Bari Kolata                1999        Farrar Straus Giroux   \n",
       "4       E. J. W. Barber                1999  W. W. Norton &amp; Company   \n",
       "\n",
       "                                         Image-URL-S  \\\n",
       "0  http://images.amazon.com/images/P/0195153448.0...   \n",
       "1  http://images.amazon.com/images/P/0002005018.0...   \n",
       "2  http://images.amazon.com/images/P/0060973129.0...   \n",
       "3  http://images.amazon.com/images/P/0374157065.0...   \n",
       "4  http://images.amazon.com/images/P/0393045218.0...   \n",
       "\n",
       "                                         Image-URL-M  \\\n",
       "0  http://images.amazon.com/images/P/0195153448.0...   \n",
       "1  http://images.amazon.com/images/P/0002005018.0...   \n",
       "2  http://images.amazon.com/images/P/0060973129.0...   \n",
       "3  http://images.amazon.com/images/P/0374157065.0...   \n",
       "4  http://images.amazon.com/images/P/0393045218.0...   \n",
       "\n",
       "                                         Image-URL-L  \n",
       "0  http://images.amazon.com/images/P/0195153448.0...  \n",
       "1  http://images.amazon.com/images/P/0002005018.0...  \n",
       "2  http://images.amazon.com/images/P/0060973129.0...  \n",
       "3  http://images.amazon.com/images/P/0374157065.0...  \n",
       "4  http://images.amazon.com/images/P/0393045218.0...  "
      ]
     },
     "execution_count": 19,
     "metadata": {},
     "output_type": "execute_result"
    }
   ],
   "source": [
    "books.head(5)"
   ]
  },
  {
   "cell_type": "code",
   "execution_count": 20,
   "id": "71b9e68c",
   "metadata": {},
   "outputs": [
    {
     "data": {
      "text/plain": [
       "ISBN                   0\n",
       "Book-Title             0\n",
       "Book-Author            2\n",
       "Year-Of-Publication    0\n",
       "Publisher              2\n",
       "Image-URL-S            0\n",
       "Image-URL-M            0\n",
       "Image-URL-L            3\n",
       "dtype: int64"
      ]
     },
     "execution_count": 20,
     "metadata": {},
     "output_type": "execute_result"
    }
   ],
   "source": [
    "books.isna().sum()"
   ]
  },
  {
   "cell_type": "code",
   "execution_count": 21,
   "id": "cdaa89c4",
   "metadata": {},
   "outputs": [
    {
     "name": "stderr",
     "output_type": "stream",
     "text": [
      "/var/folders/g4/1x4xl1_92cj02tdf3gqfw5qm0000gn/T/ipykernel_64749/3783307237.py:3: UserWarning: This pattern is interpreted as a regular expression, and has match groups. To actually get the groups, use str.extract.\n",
      "  books[books[\"Book-Title\"].str.contains(\"(Paperback)\")][\"Book-Title\"].sample(5)\n"
     ]
    },
    {
     "data": {
      "text/plain": [
       "66762     Kristy's Big Day (Baby-Sitters Club (Paperback))\n",
       "29933    The Recycled Citizen : A Sarah Kelling &amp; M...\n",
       "78879    The Signet Book of American Humor (Signet Clas...\n",
       "44477        Maisy Goes Shopping (Maisy Books (Paperback))\n",
       "9411     Frequent Flyer (Kinky Friedman Novels (Paperba...\n",
       "Name: Book-Title, dtype: object"
      ]
     },
     "execution_count": 21,
     "metadata": {},
     "output_type": "execute_result"
    }
   ],
   "source": [
    "# Checking unwanted words in the Book-Title that could potentially harm content based filtering\n",
    "\n",
    "books[books[\"Book-Title\"].str.contains(\"(Paperback)\")][\"Book-Title\"].sample(5)"
   ]
  },
  {
   "cell_type": "markdown",
   "id": "d6b3c4c2",
   "metadata": {},
   "source": [
    "# 🔥\n",
    "- Number of missing values is okay to drop.\n",
    "- Book-Title will need preprocessing to be adjusted so that the recommendations are not influenced by containing \"Book 1\" etc."
   ]
  },
  {
   "cell_type": "markdown",
   "id": "b6fe73de",
   "metadata": {},
   "source": [
    "<h1>🔥 Data Preprocessing</h1>"
   ]
  },
  {
   "cell_type": "markdown",
   "id": "dd1ebbfa",
   "metadata": {},
   "source": [
    "<h2>Ratings</h2>"
   ]
  },
  {
   "cell_type": "code",
   "execution_count": 22,
   "id": "05626aa3",
   "metadata": {
    "scrolled": true
   },
   "outputs": [
    {
     "name": "stdout",
     "output_type": "stream",
     "text": [
      "Data density (before pre-processing) 3.206771109452608e-05\n"
     ]
    }
   ],
   "source": [
    "ratings_sum = len(ratings[\"Book-Rating\"])\n",
    "unique_users = len(ratings[\"User-ID\"].unique())\n",
    "unique_items = len(ratings[\"ISBN\"].unique())\n",
    "\n",
    "data_density = ratings_sum/(unique_users*unique_items)\n",
    "print(\"Data density (before pre-processing)\",data_density)"
   ]
  },
  {
   "cell_type": "code",
   "execution_count": 23,
   "id": "0f4dbf51",
   "metadata": {},
   "outputs": [],
   "source": [
    "\"\"\"\n",
    "Filtering steps:\n",
    "- Removing interactions between Books and Users which are not in their respective datasets\n",
    "- Keeping only explicit feedback, removing implicit -> increase in effectiveness metrics\n",
    "- Keeping only Books that were rated 10 times or more -> increase in effectiveness metrics\n",
    "- Keeping only Users that rated 10 items or more -> increase in effectiveness metrics\n",
    "- Reducing the size of the dataset for memory reasons \n",
    "\n",
    "\"\"\"\n",
    "ratings = interactions_filtering(ratings)"
   ]
  },
  {
   "cell_type": "code",
   "execution_count": 24,
   "id": "0b387afb",
   "metadata": {},
   "outputs": [],
   "source": [
    "\"\"\"\n",
    "Preprocessing steps:\n",
    "- Keep only ratings that lead to potential recommendations (7+).\n",
    "- Square the ratings to increase the importance of positive ratings and decrease the importance of negative ratings.\n",
    "- Each user has a different baseline rating. Cleanse based on baseline ratings.\n",
    "\n",
    "Disclaimer: None of the steps had a positive impact on the metrics. Eventually none were implemented.\n",
    "\"\"\"\n",
    "\n",
    "ratings = interactions_preprocessing(ratings)"
   ]
  },
  {
   "cell_type": "code",
   "execution_count": 25,
   "id": "a6183a84",
   "metadata": {},
   "outputs": [
    {
     "name": "stdout",
     "output_type": "stream",
     "text": [
      "Unique users:  2653\n",
      "Unique books:  5412\n"
     ]
    }
   ],
   "source": [
    "interactions_unique_users = ratings[\"User-ID\"].unique()\n",
    "interactions_unique_isbns = ratings[\"ISBN\"].unique()\n",
    "\n",
    "print(\"Unique users: \", len(interactions_unique_users))\n",
    "print(\"Unique books: \", len(interactions_unique_isbns))"
   ]
  },
  {
   "cell_type": "code",
   "execution_count": 26,
   "id": "d25a75cb",
   "metadata": {},
   "outputs": [
    {
     "name": "stdout",
     "output_type": "stream",
     "text": [
      "Data density (after pre-processing) 0.00482733153754455\n"
     ]
    }
   ],
   "source": [
    "ratings_sum = len(ratings[\"Book-Rating\"])\n",
    "unique_users = len(ratings[\"User-ID\"].unique())\n",
    "unique_items = len(ratings[\"ISBN\"].unique())\n",
    "\n",
    "data_density = ratings_sum/(unique_users*unique_items)\n",
    "print(\"Data density (after pre-processing)\",data_density)"
   ]
  },
  {
   "cell_type": "markdown",
   "id": "25ddfe64",
   "metadata": {},
   "source": [
    "<h2>Users (features)</h2>"
   ]
  },
  {
   "cell_type": "markdown",
   "id": "acb49323",
   "metadata": {},
   "source": [
    "### Preprocessing"
   ]
  },
  {
   "cell_type": "code",
   "execution_count": 27,
   "id": "cfe8374a",
   "metadata": {},
   "outputs": [],
   "source": [
    "# Splitting Location to City, Region and Country\n",
    "users[[\"City\", \"Region\", \"Country\"]] = users[\"Location\"].apply(lambda x: split_location(x))"
   ]
  },
  {
   "cell_type": "markdown",
   "id": "3ee63591",
   "metadata": {},
   "source": [
    "This step would be redundant for Content-based filtering but I think it's still relevant for LightFM model as it treats each feature as a stand-alone feature, not all of them together.\n",
    "\n",
    "Content-based filtering works different than User and Item features in LightFM."
   ]
  },
  {
   "cell_type": "code",
   "execution_count": 28,
   "id": "76e599ba",
   "metadata": {},
   "outputs": [],
   "source": [
    "# Outliers reduction - replacement with NaN for future processing\n",
    "users[\"Age\"] = np.where(users[\"Age\"].between(0, 13), np.nan, users[\"Age\"])\n",
    "users[\"Age\"] = np.where(users[\"Age\"] > 75, np.nan, users[\"Age\"])\n",
    "\n",
    "# Replacing NaN values with median value\n",
    "users[\"Age\"] = users[\"Age\"].fillna(users[\"Age\"].median())\n",
    "\n",
    "# Age bucketing\n",
    "users[\"Age\"] = users[\"Age\"].transform(lambda x: age_bucket(x))\n",
    "\n",
    "# Removing users which are not present in the Ratings dataset\n",
    "users = users[users[\"User-ID\"].isin(set(interactions_unique_users))]"
   ]
  },
  {
   "cell_type": "markdown",
   "id": "3a459421",
   "metadata": {},
   "source": [
    "I wanted to try picking out users' favorite time periods (based on Year of Publication) and use it as a user feature:"
   ]
  },
  {
   "cell_type": "code",
   "execution_count": 29,
   "id": "e215b9a5",
   "metadata": {},
   "outputs": [],
   "source": [
    "ratings_books = pd.merge(ratings, books, on=\"ISBN\", how=\"inner\")\n",
    "ratings_books = ratings_books[[\"User-ID\", \"Book-Rating\", \"Year-Of-Publication\"]]\n",
    "\n",
    "# Bucketing to periods (1990s, 2000s, 2010s,...)\n",
    "ratings_books[\"Year-Of-Publication\"] = ratings_books[\"Year-Of-Publication\"].transform(lambda x: age_bucket(x))\n",
    "\n",
    "# Only the most favorites with the rating 7+\n",
    "ratings_books = ratings_books[ratings_books[\"Book-Rating\"] > 6]"
   ]
  },
  {
   "cell_type": "code",
   "execution_count": 30,
   "id": "420c6b05",
   "metadata": {},
   "outputs": [
    {
     "data": {
      "image/png": "[encoded data removed]",
      "text/plain": [
       "<Figure size 640x480 with 1 Axes>"
      ]
     },
     "metadata": {},
     "output_type": "display_data"
    }
   ],
   "source": [
    "# How many favorite periods do users have\n",
    "\n",
    "fav_periods_counts = ratings_books.groupby(\"User-ID\")[\"Year-Of-Publication\"].nunique()\n",
    "periods_count_distribution = fav_periods_counts.value_counts().sort_index()\n",
    "\n",
    "periods_count_distribution.plot(kind=\"bar\")\n",
    "plt.xlabel('Number of Different Favorite Publication Periods')\n",
    "plt.ylabel('Number of Users')\n",
    "plt.title('Distribution of Favorite Publication Periods Among Users')\n",
    "plt.xticks(rotation=0)\n",
    "plt.show()"
   ]
  },
  {
   "cell_type": "code",
   "execution_count": 31,
   "id": "021a1eb6",
   "metadata": {},
   "outputs": [],
   "source": [
    "# Preparation for the following step -> for computational reasons replacing rating with ranking\n",
    "ratings_books[\"Book-Rating\"] = ratings_books[\"Book-Rating\"].rank(method='dense').astype(int)\n",
    "\n",
    "# Giving more weight to bigger rating\n",
    "ratings_books = ratings_books.loc[ratings_books.index.repeat(ratings_books['Book-Rating'])].reset_index(drop=True)\n",
    "\n",
    "ratings_books = ratings_books[[\"User-ID\", \"Year-Of-Publication\"]]\n",
    "\n",
    "# Grouping with mode\n",
    "ratings_books = ratings_books.groupby(\"User-ID\")[\"Year-Of-Publication\"].apply(get_mode)"
   ]
  },
  {
   "cell_type": "code",
   "execution_count": 32,
   "id": "df4ec3d5",
   "metadata": {},
   "outputs": [
    {
     "data": {
      "text/plain": [
       "Year-Of-Publication\n",
       "2000    2330\n",
       "1990     289\n",
       "1980      16\n",
       "0          3\n",
       "1950       2\n",
       "1960       2\n",
       "1970       1\n",
       "Name: count, dtype: int64"
      ]
     },
     "execution_count": 32,
     "metadata": {},
     "output_type": "execute_result"
    }
   ],
   "source": [
    "ratings_books.value_counts()"
   ]
  },
  {
   "cell_type": "markdown",
   "id": "3bd2daf5",
   "metadata": {},
   "source": [
    "Given the small number of buckets and the skeweness towards a single bucket, I deemed this step as a dead-end. It will not provide much additional value in terms of variety and grouping users "
   ]
  },
  {
   "cell_type": "markdown",
   "id": "5f08c29a",
   "metadata": {},
   "source": [
    "<h2>Books (features)</h2>"
   ]
  },
  {
   "cell_type": "code",
   "execution_count": 33,
   "id": "95a97853",
   "metadata": {},
   "outputs": [],
   "source": [
    "# Removing books which are not in the Ratings dataset\n",
    "books = books[books[\"ISBN\"].isin(set(interactions_unique_isbns))]"
   ]
  },
  {
   "cell_type": "code",
   "execution_count": 34,
   "id": "ddffb99f",
   "metadata": {},
   "outputs": [],
   "source": [
    "# Removing stopwords\n",
    "def remove_stop_words(title):\n",
    "    words = nltk.word_tokenize(title)\n",
    "    filtered_words = [word for word in words if word.lower() not in stop_words]\n",
    "    return ' '.join(filtered_words)\n",
    "\n",
    "stop_words = set(stopwords.words('english'))\n",
    "\n",
    "books[\"Book-Title-Processed\"] = books[\"Book-Title\"].apply(remove_stop_words)"
   ]
  },
  {
   "cell_type": "code",
   "execution_count": 35,
   "id": "0604ef07",
   "metadata": {},
   "outputs": [],
   "source": [
    "# Removing further unwanted words from the Book title\n",
    "\n",
    "words_to_remove = [\"(Paperback)\",\n",
    "                   \"(Hardcover)\",\n",
    "                   \": A Novel\",\n",
    "                   \"Book 1\",\n",
    "                   \"Book 2\",\n",
    "                   \"Book 3\",\n",
    "                   \"Book 4\",\n",
    "                   \"Book 5\",\n",
    "                   \"Book 6\",\n",
    "                   \"Book 7\",\n",
    "                   \"Book 8\",\n",
    "                   \"Book 9\",\n",
    "                   \"Book 10\",\n",
    "                  ]\n",
    "\n",
    "regex_pattern = r'\\b(?:' + '|'.join(words_to_remove) + r')\\b'\n",
    "\n",
    "books[\"Book-Title-Processed\"] = books[\"Book-Title-Processed\"].str.replace(regex_pattern,\"\",regex=True)"
   ]
  },
  {
   "cell_type": "code",
   "execution_count": 36,
   "id": "8b21b12e",
   "metadata": {},
   "outputs": [
    {
     "data": {
      "text/html": [
       "<div>\n",
       "<style scoped>\n",
       "    .dataframe tbody tr th:only-of-type {\n",
       "        vertical-align: middle;\n",
       "    }\n",
       "\n",
       "    .dataframe tbody tr th {\n",
       "        vertical-align: top;\n",
       "    }\n",
       "\n",
       "    .dataframe thead th {\n",
       "        text-align: right;\n",
       "    }\n",
       "</style>\n",
       "<table border=\"1\" class=\"dataframe\">\n",
       "  <thead>\n",
       "    <tr style=\"text-align: right;\">\n",
       "      <th></th>\n",
       "      <th>ISBN</th>\n",
       "      <th>Book-Title</th>\n",
       "      <th>Book-Author</th>\n",
       "      <th>Year-Of-Publication</th>\n",
       "      <th>Publisher</th>\n",
       "      <th>Image-URL-S</th>\n",
       "      <th>Image-URL-M</th>\n",
       "      <th>Image-URL-L</th>\n",
       "      <th>Book-Title-Processed</th>\n",
       "    </tr>\n",
       "  </thead>\n",
       "  <tbody>\n",
       "    <tr>\n",
       "      <th>5</th>\n",
       "      <td>0399135782</td>\n",
       "      <td>The Kitchen God's Wife</td>\n",
       "      <td>Amy Tan</td>\n",
       "      <td>1991</td>\n",
       "      <td>Putnam Pub Group</td>\n",
       "      <td>http://images.amazon.com/images/P/0399135782.0...</td>\n",
       "      <td>http://images.amazon.com/images/P/0399135782.0...</td>\n",
       "      <td>http://images.amazon.com/images/P/0399135782.0...</td>\n",
       "      <td>Kitchen God 's Wife</td>\n",
       "    </tr>\n",
       "    <tr>\n",
       "      <th>18</th>\n",
       "      <td>0440234743</td>\n",
       "      <td>The Testament</td>\n",
       "      <td>John Grisham</td>\n",
       "      <td>1999</td>\n",
       "      <td>Dell</td>\n",
       "      <td>http://images.amazon.com/images/P/0440234743.0...</td>\n",
       "      <td>http://images.amazon.com/images/P/0440234743.0...</td>\n",
       "      <td>http://images.amazon.com/images/P/0440234743.0...</td>\n",
       "      <td>Testament</td>\n",
       "    </tr>\n",
       "    <tr>\n",
       "      <th>19</th>\n",
       "      <td>0452264464</td>\n",
       "      <td>Beloved (Plume Contemporary Fiction)</td>\n",
       "      <td>Toni Morrison</td>\n",
       "      <td>1994</td>\n",
       "      <td>Plume</td>\n",
       "      <td>http://images.amazon.com/images/P/0452264464.0...</td>\n",
       "      <td>http://images.amazon.com/images/P/0452264464.0...</td>\n",
       "      <td>http://images.amazon.com/images/P/0452264464.0...</td>\n",
       "      <td>Beloved ( Plume Contemporary Fiction )</td>\n",
       "    </tr>\n",
       "    <tr>\n",
       "      <th>20</th>\n",
       "      <td>0609804618</td>\n",
       "      <td>Our Dumb Century: The Onion Presents 100 Years...</td>\n",
       "      <td>The Onion</td>\n",
       "      <td>1999</td>\n",
       "      <td>Three Rivers Press</td>\n",
       "      <td>http://images.amazon.com/images/P/0609804618.0...</td>\n",
       "      <td>http://images.amazon.com/images/P/0609804618.0...</td>\n",
       "      <td>http://images.amazon.com/images/P/0609804618.0...</td>\n",
       "      <td>Dumb Century : Onion Presents 100 Years Headli...</td>\n",
       "    </tr>\n",
       "    <tr>\n",
       "      <th>26</th>\n",
       "      <td>0971880107</td>\n",
       "      <td>Wild Animus</td>\n",
       "      <td>Rich Shapero</td>\n",
       "      <td>2004</td>\n",
       "      <td>Too Far</td>\n",
       "      <td>http://images.amazon.com/images/P/0971880107.0...</td>\n",
       "      <td>http://images.amazon.com/images/P/0971880107.0...</td>\n",
       "      <td>http://images.amazon.com/images/P/0971880107.0...</td>\n",
       "      <td>Wild Animus</td>\n",
       "    </tr>\n",
       "  </tbody>\n",
       "</table>\n",
       "</div>"
      ],
      "text/plain": [
       "          ISBN                                         Book-Title  \\\n",
       "5   0399135782                             The Kitchen God's Wife   \n",
       "18  0440234743                                      The Testament   \n",
       "19  0452264464               Beloved (Plume Contemporary Fiction)   \n",
       "20  0609804618  Our Dumb Century: The Onion Presents 100 Years...   \n",
       "26  0971880107                                        Wild Animus   \n",
       "\n",
       "      Book-Author Year-Of-Publication           Publisher  \\\n",
       "5         Amy Tan                1991    Putnam Pub Group   \n",
       "18   John Grisham                1999                Dell   \n",
       "19  Toni Morrison                1994               Plume   \n",
       "20      The Onion                1999  Three Rivers Press   \n",
       "26   Rich Shapero                2004             Too Far   \n",
       "\n",
       "                                          Image-URL-S  \\\n",
       "5   http://images.amazon.com/images/P/0399135782.0...   \n",
       "18  http://images.amazon.com/images/P/0440234743.0...   \n",
       "19  http://images.amazon.com/images/P/0452264464.0...   \n",
       "20  http://images.amazon.com/images/P/0609804618.0...   \n",
       "26  http://images.amazon.com/images/P/0971880107.0...   \n",
       "\n",
       "                                          Image-URL-M  \\\n",
       "5   http://images.amazon.com/images/P/0399135782.0...   \n",
       "18  http://images.amazon.com/images/P/0440234743.0...   \n",
       "19  http://images.amazon.com/images/P/0452264464.0...   \n",
       "20  http://images.amazon.com/images/P/0609804618.0...   \n",
       "26  http://images.amazon.com/images/P/0971880107.0...   \n",
       "\n",
       "                                          Image-URL-L  \\\n",
       "5   http://images.amazon.com/images/P/0399135782.0...   \n",
       "18  http://images.amazon.com/images/P/0440234743.0...   \n",
       "19  http://images.amazon.com/images/P/0452264464.0...   \n",
       "20  http://images.amazon.com/images/P/0609804618.0...   \n",
       "26  http://images.amazon.com/images/P/0971880107.0...   \n",
       "\n",
       "                                 Book-Title-Processed  \n",
       "5                                 Kitchen God 's Wife  \n",
       "18                                          Testament  \n",
       "19             Beloved ( Plume Contemporary Fiction )  \n",
       "20  Dumb Century : Onion Presents 100 Years Headli...  \n",
       "26                                        Wild Animus  "
      ]
     },
     "execution_count": 36,
     "metadata": {},
     "output_type": "execute_result"
    }
   ],
   "source": [
    "books.head()"
   ]
  },
  {
   "cell_type": "markdown",
   "id": "47483767",
   "metadata": {},
   "source": [
    "<h1>Train/Valid split (Interactions)</h1>"
   ]
  },
  {
   "cell_type": "code",
   "execution_count": 37,
   "id": "4fe4480f",
   "metadata": {},
   "outputs": [],
   "source": [
    "train, valid = train_test_split(ratings, test_size=0.2, random_state=42)"
   ]
  },
  {
   "cell_type": "code",
   "execution_count": 38,
   "id": "a75f9f3f",
   "metadata": {},
   "outputs": [
    {
     "name": "stdout",
     "output_type": "stream",
     "text": [
      "Train 55448 hodnocení\n",
      "Unikátní uživatelé:  2653\n",
      "Unikátní knihy:  5390\n",
      "AVG počet hodnocení na uživatele:  20.900113079532606\n",
      "AVG počet hodnocení na knihu:  10.287198515769944\n"
     ]
    }
   ],
   "source": [
    "print(\"Train\", len(train), \"hodnocení\")\n",
    "print(\"Unikátní uživatelé: \", len(train[\"User-ID\"].unique()))\n",
    "print(\"Unikátní knihy: \", len(train[\"ISBN\"].unique()))\n",
    "print(\"AVG počet hodnocení na uživatele: \", len(train) / len(train[\"User-ID\"].unique()))\n",
    "print(\"AVG počet hodnocení na knihu: \", len(train) / len(train[\"ISBN\"].unique()))"
   ]
  },
  {
   "cell_type": "code",
   "execution_count": 39,
   "id": "78c57a4e",
   "metadata": {},
   "outputs": [
    {
     "name": "stdout",
     "output_type": "stream",
     "text": [
      "Valid 13863 hodnocení\n",
      "Unikátní uživatelé:  2561\n",
      "Unikátní knihy:  4463\n",
      "AVG počet hodnocení na uživatele:  5.413119875048809\n",
      "AVG počet hodnocení na knihu:  3.106206587497199\n"
     ]
    }
   ],
   "source": [
    "print(\"Valid\", len(valid), \"hodnocení\")\n",
    "print(\"Unikátní uživatelé: \", len(valid[\"User-ID\"].unique()))\n",
    "print(\"Unikátní knihy: \", len(valid[\"ISBN\"].unique()))\n",
    "print(\"AVG počet hodnocení na uživatele: \", len(valid) / len(valid[\"User-ID\"].unique()))\n",
    "print(\"AVG počet hodnocení na knihu: \", len(valid) / len(valid[\"ISBN\"].unique()))"
   ]
  },
  {
   "cell_type": "markdown",
   "id": "5dd06f49",
   "metadata": {},
   "source": [
    "<h1>Input preparation</h1>"
   ]
  },
  {
   "cell_type": "markdown",
   "id": "716ced27",
   "metadata": {},
   "source": [
    "<h2>Features</h2>"
   ]
  },
  {
   "cell_type": "code",
   "execution_count": 40,
   "id": "c7576d48",
   "metadata": {},
   "outputs": [],
   "source": [
    "# All unique features listed -> input for the model\n",
    "unique_user_features = users[[\"Age\", \"City\", \"Region\", \"Country\"]].values.flatten().tolist()\n",
    "\n",
    "# All unique features with User ID -> input for the model\n",
    "user_features_tpl = [(user_id, [age, city, region, country]) \n",
    "             for user_id, age, city, region, country \n",
    "             in zip(users[\"User-ID\"], users[\"Age\"], users[\"City\"], users[\"Region\"], users[\"Country\"])]"
   ]
  },
  {
   "cell_type": "code",
   "execution_count": 41,
   "id": "e0f05308",
   "metadata": {},
   "outputs": [],
   "source": [
    "# All unique features listed -> input for the model\n",
    "unique_book_features = books[[\"Book-Title-Processed\",\"Book-Author\", \"Year-Of-Publication\", \"Publisher\"]].values.flatten().tolist()\n",
    "\n",
    "# Veškeré features spojené s ISBN\n",
    "book_features_tpl = [(isbn, [title, author, year, publisher]) \n",
    "             for isbn, title, author, year, publisher \n",
    "             in zip(books[\"ISBN\"], books[\"Book-Title-Processed\"], books[\"Book-Author\"], books[\"Year-Of-Publication\"], books[\"Publisher\"])]"
   ]
  },
  {
   "cell_type": "markdown",
   "id": "b8986205",
   "metadata": {},
   "source": [
    "<h2>Building dataset</h2>"
   ]
  },
  {
   "cell_type": "code",
   "execution_count": 42,
   "id": "42d4aba1",
   "metadata": {},
   "outputs": [],
   "source": [
    "# Defining dataset\n",
    "\n",
    "full_dataset = Dataset()\n",
    "full_dataset.fit(users=interactions_unique_users, \n",
    "                 items=interactions_unique_isbns, \n",
    "                 user_features=unique_user_features,\n",
    "                 item_features=unique_book_features\n",
    "                )\n",
    "\n",
    "# Mapping original User IDs and ISBNs to LightFM's internal IDs\n",
    "user_id_map, user_features_map, item_id_map, item_features_map = full_dataset.mapping()\n",
    "\n",
    "user_id_inverse_map = {v: k for k, v in user_id_map.items()}\n",
    "item_id_inverse_map = {v: k for k, v in item_id_map.items()}"
   ]
  },
  {
   "cell_type": "code",
   "execution_count": 43,
   "id": "807e9807",
   "metadata": {},
   "outputs": [],
   "source": [
    "# Building features\n",
    "\n",
    "user_features_matrix = full_dataset.build_user_features(user_features_tpl, normalize=False)\n",
    "item_features_matrix = full_dataset.build_item_features(book_features_tpl, normalize=False)"
   ]
  },
  {
   "cell_type": "code",
   "execution_count": 44,
   "id": "0c9571c5",
   "metadata": {},
   "outputs": [],
   "source": [
    "# Building interactions\n",
    "\n",
    "train_interactions, train_weights = build_interactions(train, full_dataset)\n",
    "valid_interactions, valid_weights = build_interactions(valid, full_dataset)"
   ]
  },
  {
   "cell_type": "markdown",
   "id": "0f82a3c3",
   "metadata": {},
   "source": [
    "<h1>🔥 Model</h1>"
   ]
  },
  {
   "cell_type": "code",
   "execution_count": 45,
   "id": "20ec7776",
   "metadata": {},
   "outputs": [],
   "source": [
    "model = LightFM(loss=\"warp\", # Useful when only positive interactions are present and optimising the top of the recommendation list (precision@k) is desired.\n",
    "                learning_schedule=\"adagrad\",\n",
    "                learning_rate=0.01,\n",
    "                item_alpha=0.001, # L2 regularization\n",
    "                user_alpha=0.001,\n",
    "                no_components=30,\n",
    "                k=15,\n",
    "               )"
   ]
  },
  {
   "cell_type": "code",
   "execution_count": 46,
   "id": "5154059b",
   "metadata": {},
   "outputs": [
    {
     "name": "stderr",
     "output_type": "stream",
     "text": [
      "Epoch: 100%|██████████████████████████████████| 100/100 [00:18<00:00,  5.49it/s]\n"
     ]
    },
    {
     "data": {
      "text/plain": [
       "<lightfm.lightfm.LightFM at 0x2a2ddb5d0>"
      ]
     },
     "execution_count": 46,
     "metadata": {},
     "output_type": "execute_result"
    }
   ],
   "source": [
    "model.fit(train_interactions,\n",
    "          sample_weight=train_weights,\n",
    "          user_features=user_features_matrix,\n",
    "          item_features=item_features_matrix,\n",
    "          epochs=100, \n",
    "          num_threads=4,\n",
    "          verbose=True,\n",
    "         )"
   ]
  },
  {
   "cell_type": "markdown",
   "id": "d7e4ceec",
   "metadata": {},
   "source": [
    "<h1>🔥 Model Evaluation</h1>"
   ]
  },
  {
   "cell_type": "markdown",
   "id": "4315bd20",
   "metadata": {},
   "source": [
    "- True Positive = Recommending a relevant book.\n",
    "- True Negative = Not recommending an irelevant book.\n",
    "- False Positive = Recommending an irelevant book.\n",
    "- False Negative = Failing to recommend a relevant book."
   ]
  },
  {
   "cell_type": "code",
   "execution_count": 47,
   "id": "827dce09",
   "metadata": {},
   "outputs": [
    {
     "name": "stdout",
     "output_type": "stream",
     "text": [
      "Train AUC: 0.9610941410064697\n",
      "Validation AUC: 0.8084030151367188\n"
     ]
    }
   ],
   "source": [
    "train_auc = auc_score(model,\n",
    "                      train_interactions,\n",
    "                      user_features=user_features_matrix,\n",
    "                      item_features=item_features_matrix,\n",
    "                      check_intersections=True,\n",
    "                     ).mean()\n",
    "\n",
    "valid_auc = auc_score(model,\n",
    "                     valid_interactions,\n",
    "                     train_interactions=train_interactions,\n",
    "                     user_features=user_features_matrix,\n",
    "                     item_features=item_features_matrix,\n",
    "                     check_intersections=True,\n",
    "                    ).mean()\n",
    "\n",
    "print(f\"Train AUC: {train_auc}\")\n",
    "print(f\"Validation AUC: {valid_auc}\")"
   ]
  },
  {
   "cell_type": "markdown",
   "id": "4afa0315",
   "metadata": {},
   "source": [
    "There's an 96% (81%) chance that a randomly chosen positive item (item that a user liked) is ranked higher than a randomly chosen negative item (item user did not like)."
   ]
  },
  {
   "cell_type": "code",
   "execution_count": 48,
   "id": "59d88f4c",
   "metadata": {},
   "outputs": [
    {
     "name": "stdout",
     "output_type": "stream",
     "text": [
      "Train Precision: 0.17139087617397308\n",
      "Validation Precision: 0.02709878981113434\n"
     ]
    }
   ],
   "source": [
    "train_precision = precision_at_k(model,\n",
    "                                 train_interactions,\n",
    "                                 user_features=user_features_matrix,\n",
    "                                 item_features=item_features_matrix,\n",
    "                                 check_intersections=True,\n",
    "                                 k=10,\n",
    "                                ).mean()\n",
    "\n",
    "valid_precision = precision_at_k(model,\n",
    "                                valid_interactions,\n",
    "                                train_interactions=train_interactions,\n",
    "                                user_features=user_features_matrix,\n",
    "                                item_features=item_features_matrix,\n",
    "                                check_intersections=True,\n",
    "                                k=10,\n",
    "                                ).mean()\n",
    "\n",
    "print(f\"Train Precision: {train_precision}\")\n",
    "print(f\"Validation Precision: {valid_precision}\")"
   ]
  },
  {
   "cell_type": "markdown",
   "id": "92b30005",
   "metadata": {},
   "source": [
    "Precision = True Positives / True Positives + False Positives\n",
    "\n",
    "Precision measures the proportion of relevant items in the Top 10. It says how good the top of the list is."
   ]
  },
  {
   "cell_type": "code",
   "execution_count": 49,
   "id": "52fbf4e5",
   "metadata": {},
   "outputs": [
    {
     "name": "stdout",
     "output_type": "stream",
     "text": [
      "Train Recall: 0.09896645264634776\n",
      "Validation Recall: 0.05575293526334073\n"
     ]
    }
   ],
   "source": [
    "train_recall = recall_at_k(model,\n",
    "                           train_interactions,\n",
    "                           user_features=user_features_matrix,\n",
    "                           item_features=item_features_matrix,\n",
    "                           check_intersections=True,\n",
    "                           k=10,\n",
    "                          ).mean()\n",
    "\n",
    "valid_recall = recall_at_k(model,\n",
    "                          valid_interactions,\n",
    "                          train_interactions=train_interactions,\n",
    "                          user_features=user_features_matrix,\n",
    "                          item_features=item_features_matrix,\n",
    "                          check_intersections=True,\n",
    "                          k=10,\n",
    "                         ).mean()\n",
    "\n",
    "print(f\"Train Recall: {train_recall}\")\n",
    "print(f\"Validation Recall: {valid_recall}\")"
   ]
  },
  {
   "cell_type": "markdown",
   "id": "73e51a1c",
   "metadata": {},
   "source": [
    "Recall = True Positives / True Positives + False Negatives\n",
    "\n",
    "Of all the relevant items, how many ended up in Top 10."
   ]
  },
  {
   "cell_type": "markdown",
   "id": "93b11db3",
   "metadata": {},
   "source": [
    "### High AUC, low Precision and Recall.\n",
    "\n",
    "On the scale of the whole dataset, the items were ranked in fairly good order - the more relevant were higher than the less relevant ones (high AUC). But getting the most relevant ones to Top 10 turned out to be a challenge mainly because the competition was too much (all the items in the dataset).\n",
    "\n",
    "However, when looking at the results from LightFM documentation or tested benchmarks (https://amanda-shu.medium.com/lightfm-performance-7515e57f5cfe), Precision and Recall around these rates is acceptable."
   ]
  },
  {
   "cell_type": "markdown",
   "id": "d2f44f7c",
   "metadata": {},
   "source": [
    "### LightFM's criticism:\n",
    "<i>\"Although the expectation is that the LightFM hybrid model would improve the pure model, our results indicate that the item features actually hindered performance.\"</i> source: https://amanda-shu.medium.com/lightfm-performance-7515e57f5cfe\n",
    "\n",
    "#### For this dataset, everything else being the same: \n",
    "\n",
    "##### - Hybrid model:\n",
    "    - AUC 95,91% (80,94%)\n",
    "    - Precision 17,08% (2,74%)\n",
    "    - Recall 9,87% (5,77%)\n",
    "\n",
    "##### - Only ratings:\n",
    "    - AUC 80,97% (74,68%)\n",
    "    - Precision 8,81% (1,94%)\n",
    "    - Recall 4,92% (3,81%)"
   ]
  },
  {
   "cell_type": "markdown",
   "id": "0f66868e",
   "metadata": {},
   "source": [
    "<h1>🔥 Single user Prediction (already in dataset)</h1>"
   ]
  },
  {
   "cell_type": "code",
   "execution_count": 50,
   "id": "9ef5fc7b",
   "metadata": {},
   "outputs": [
    {
     "name": "stdout",
     "output_type": "stream",
     "text": [
      "Number of ratings: 10\n"
     ]
    },
    {
     "name": "stderr",
     "output_type": "stream",
     "text": [
      "/var/folders/g4/1x4xl1_92cj02tdf3gqfw5qm0000gn/T/ipykernel_64749/3179353301.py:1: FutureWarning: Calling int on a single element Series is deprecated and will raise a TypeError in the future. Use int(ser.iloc[0]) instead\n",
      "  userid = int(ratings.sample(1)[\"User-ID\"]) # random user\n"
     ]
    }
   ],
   "source": [
    "userid = int(ratings.sample(1)[\"User-ID\"]) # random user\n",
    "print(\"Number of ratings:\",len(ratings[ratings[\"User-ID\"]==userid]))"
   ]
  },
  {
   "cell_type": "code",
   "execution_count": 51,
   "id": "1e861e95",
   "metadata": {},
   "outputs": [
    {
     "name": "stdout",
     "output_type": "stream",
     "text": [
      "User ID: 243077. Previous ratings (highest to lowest):\n",
      "- 10*, The Sparrow, MARY DORIA RUSSELL, 1997 (ISBN: 0449912558)\n",
      "- 9*, The Dilbert Principle: A Cubicle'S-Eye View of Bosses, Meetings, Management Fads &amp; Other Workplace Afflictions, Scott Adams, 1996 (ISBN: 0887307876)\n",
      "- 8*, One for the Money (Stephanie Plum Novels (Paperback)), Janet Evanovich, 1995 (ISBN: 0061009059)\n",
      "- 8*, The Last Continent (Discworld Novels (Paperback)), Terry Pratchett, 2000 (ISBN: 0061059072)\n",
      "- 8*, Frankenstein: Or, the Modern Prometheus (World's Classics), Mary Wollstonecraft Shelley, 1982 (ISBN: 0192815326)\n",
      "- 8*, Imzadi (Star Trek: The Next Generation), Peter David, 1993 (ISBN: 0671867296)\n",
      "- 7*, Unnatural Exposure, Patricia Daniels Cornwell, 1997 (ISBN: 0399142851)\n",
      "- 7*, Two for the Dough, Janet Evanovich, 1996 (ISBN: 0671001795)\n",
      "- 7*, Deception Point, Dan Brown, 2002 (ISBN: 0671027387)\n",
      "- 7*, The Dilbert Future: Thriving on Stupidity in the 21st Century, Scott Adams, 1997 (ISBN: 088730866X)\n"
     ]
    }
   ],
   "source": [
    "previous_ratings(userid, 10)"
   ]
  },
  {
   "cell_type": "code",
   "execution_count": 52,
   "id": "f9784b11",
   "metadata": {},
   "outputs": [
    {
     "name": "stdout",
     "output_type": "stream",
     "text": [
      "Predicted: best 10:\n",
      "- The Crush, Sandra Brown, 2002 (ISBN: 0446527041) -0.23720715939998627\n",
      "- Well-Schooled in Murder, Elizabeth George, 1991 (ISBN: 0553287346) -0.25263744592666626\n",
      "- The Lovely Bones: A Novel, Alice Sebold, 2002 (ISBN: 0316666343) -0.2734385132789612\n",
      "- The Lunatic Cafe (Anita Blake Vampire Hunter (Paperback)), Laurell K. Hamilton, 2001 (ISBN: 0441002935) -0.2771044969558716\n",
      "- The Secret Life of Bees, Sue Monk Kidd, 2003 (ISBN: 0142001740) -0.28642982244491577\n",
      "- Angels &amp; Demons, Dan Brown, 2001 (ISBN: 0671027360) -0.28941819071769714\n",
      "- The Murder Book, Jonathan Kellerman, 2003 (ISBN: 0345413903) -0.29170671105384827\n",
      "- The Breaker, Minette Walters, 2000 (ISBN: 0515128821) -0.2940143644809723\n",
      "- Invasion of Privacy, PERRI O'SHAUGHNESSY, 1997 (ISBN: 0440220696) -0.29530638456344604\n",
      "- Shogun, JAMES CLAVELL, 1986 (ISBN: 0440178002) -0.3008395731449127\n"
     ]
    }
   ],
   "source": [
    "prediction(userid, PredictionType.BEST, 10, remove_rated=True)"
   ]
  },
  {
   "cell_type": "markdown",
   "id": "59a59b88",
   "metadata": {},
   "source": [
    "<h1>🔥 Single user prediction (new user based on ratings)</h1>"
   ]
  },
  {
   "cell_type": "code",
   "execution_count": 53,
   "id": "62c1684b",
   "metadata": {},
   "outputs": [],
   "source": [
    "\"\"\"\n",
    "Fan of Sci-fi\n",
    "Not a Fan of Classics\n",
    "\n",
    "60809833 -> Brave New World, Huxley\n",
    "60914653 -> The Unbearable Lightness of Being, Kundera\n",
    "60934913 -> Kitchen Confidential: Adventures in the Culinary Underbelly, Anthony Bourdain\n",
    "61020710 -> The Color of Magic, Terry Pratchett\n",
    "64471047 -> The Lion, the Witch, and the Wardrobe (The Chronicles of Narnia, Book 2), C. S. Lewis\n",
    "64471063 -> The Horse and His Boy, C. S. Lewis\n",
    "64471101 -> The Magician's Nephew (rack) (Narnia), C. S. Lewis\n",
    "64407667 -> The Bad Beginning (A Series of Unfortunate Events, Book 1), Lemony Snicket\n",
    "64407675 -> The Reptile Room (A Series of Unfortunate Events, Book 2), Lemony Snicket\n",
    "64407683 -> The Wide Window (A Series of Unfortunate Events, Book 3), Lemony Snicket\n",
    "140042393 -> The Grapes of Wrath, John Steinbeck\n",
    "140042520 -> Dharma Bums, Jack Kerouac\n",
    "140042598 -> On the Road, Jack Kerouac\n",
    "140053204 -> Travels With Charley: In Search of America, John Steinbeck\n",
    "345303067 -> 2010: Odyssey Two, Arthur C. Clarke\n",
    "345339703 -> The Fellowship of the Ring (The Lord of the Rings, Part 1), J.R.R. TOLKIEN\n",
    "345339711 -> The Two Towers (The Lord of the Rings, Part 2), J.R.R. TOLKIEN\n",
    "345389964 -> A Son of the Circus, John Irving\n",
    "\"\"\"\n",
    "\n",
    "ratings_new_userid = 123457\n",
    "ratings_new_isbn = ['0060809833', \n",
    "                    '0060914653', \n",
    "                    '0060934913', \n",
    "                    '0061020710', \n",
    "                    '0064471047', \n",
    "                    '0064471063', \n",
    "                    '0064471101', \n",
    "                    '0064407667', \n",
    "                    '0064407675', \n",
    "                    '0064407683', \n",
    "                    '0140042393', \n",
    "                    '0140042520', \n",
    "                    '0140042598', \n",
    "                    '0140053204', \n",
    "                    '0345303067', \n",
    "                    '0345339703', \n",
    "                    '0345339711', \n",
    "                    '0345389964']\n",
    "ratings_new_rating = [9,2,1,8,9,10,8, 7, 7, 8, 0, 3, 1, 2, 8, 9, 10, 4]\n",
    "ratings_new = pd.DataFrame({\n",
    "    \"User-ID\": ratings_new_userid,\n",
    "    \"ISBN\": ratings_new_isbn,\n",
    "    \"Book-Rating\": ratings_new_rating\n",
    "})"
   ]
  },
  {
   "cell_type": "code",
   "execution_count": 54,
   "id": "50609fe8",
   "metadata": {},
   "outputs": [
    {
     "name": "stdout",
     "output_type": "stream",
     "text": [
      "18/18 valid ISBNs.\n"
     ]
    }
   ],
   "source": [
    "check_isbns(ratings_new_isbn)"
   ]
  },
  {
   "cell_type": "code",
   "execution_count": 55,
   "id": "14dcaec1",
   "metadata": {},
   "outputs": [],
   "source": [
    "# New inputs preprocessing\n",
    "ratings_new = interactions_preprocessing(ratings_new)\n",
    "\n",
    "# Concatenating with the whole Ratings dataset\n",
    "ratings = pd.concat([ratings, ratings_new], ignore_index=True)"
   ]
  },
  {
   "cell_type": "code",
   "execution_count": 56,
   "id": "98483d01",
   "metadata": {},
   "outputs": [],
   "source": [
    "full_dataset.fit_partial(users=ratings_new[\"User-ID\"].unique(), \n",
    "                         items=ratings_new[\"ISBN\"].unique())\n",
    "\n",
    "user_id_map, user_feature_map, item_id_map, item_feature_map = full_dataset.mapping()\n",
    "\n",
    "user_id_inverse_map = {v: k for k, v in user_id_map.items()}\n",
    "item_id_inverse_map = {v: k for k, v in item_id_map.items()}"
   ]
  },
  {
   "cell_type": "code",
   "execution_count": 57,
   "id": "164205a0",
   "metadata": {},
   "outputs": [],
   "source": [
    "new_interactions, new_weights = build_interactions(ratings_new, full_dataset)"
   ]
  },
  {
   "cell_type": "code",
   "execution_count": 58,
   "id": "2c7a7204",
   "metadata": {},
   "outputs": [
    {
     "name": "stderr",
     "output_type": "stream",
     "text": [
      "Epoch: 100%|████████████████████████████████| 100/100 [00:00<00:00, 3536.90it/s]\n"
     ]
    },
    {
     "data": {
      "text/plain": [
       "<lightfm.lightfm.LightFM at 0x2a2ddb5d0>"
      ]
     },
     "execution_count": 58,
     "metadata": {},
     "output_type": "execute_result"
    }
   ],
   "source": [
    "# Fit Partial for Model (model.fit_partial) nefunguje pro nové uživatele - dimenzionalita neodpovídá\n",
    "\n",
    "model.fit(new_interactions,\n",
    "          sample_weight=new_weights,\n",
    "          num_threads=4,\n",
    "          verbose=True,\n",
    "          epochs=100,\n",
    "         )"
   ]
  },
  {
   "cell_type": "code",
   "execution_count": 59,
   "id": "1d293047",
   "metadata": {},
   "outputs": [
    {
     "name": "stdout",
     "output_type": "stream",
     "text": [
      "User ID: 123457. Previous ratings (highest to lowest):\n",
      "- 10*, The Two Towers (The Lord of the Rings, Part 2), J.R.R. TOLKIEN, 1986 (ISBN: 0345339711)\n",
      "- 10*, The Horse and His Boy, C. S. Lewis, 1994 (ISBN: 0064471063)\n",
      "- 9*, Brave New World, Aldous Huxley, 1989 (ISBN: 0060809833)\n",
      "- 9*, The Fellowship of the Ring (The Lord of the Rings, Part 1), J.R.R. TOLKIEN, 1986 (ISBN: 0345339703)\n",
      "- 9*, The Lion, the Witch, and the Wardrobe (The Chronicles of Narnia, Book 2), C. S. Lewis, 1994 (ISBN: 0064471047)\n",
      "- 8*, 2010: Odyssey Two, Arthur C. Clarke, 1984 (ISBN: 0345303067)\n",
      "- 8*, The Wide Window (A Series of Unfortunate Events, Book 3), Lemony Snicket, 2000 (ISBN: 0064407683)\n",
      "- 8*, The Magician's Nephew (rack) (Narnia), C. S. Lewis, 2002 (ISBN: 0064471101)\n",
      "- 8*, The Color of Magic, Terry Pratchett, 2000 (ISBN: 0061020710)\n",
      "- 7*, The Bad Beginning (A Series of Unfortunate Events, Book 1), Lemony Snicket, 1999 (ISBN: 0064407667)\n"
     ]
    }
   ],
   "source": [
    "user_id = 123457\n",
    "no_items = 10\n",
    "\n",
    "previous_ratings(user_id, no_items)"
   ]
  },
  {
   "cell_type": "code",
   "execution_count": 60,
   "id": "c56a2829",
   "metadata": {},
   "outputs": [
    {
     "name": "stdout",
     "output_type": "stream",
     "text": [
      "Predicted: best 10:\n",
      "- The Two Towers (The Lord of the Rings, Part 2), J. R. R. Tolkien, 1999 (ISBN: 0618002235) -0.42822369933128357\n",
      "- Crossing Over, John Edward, 2001 (ISBN: 1588720020) -0.4311419129371643\n",
      "- The Gift, Julie Garwood, 1991 (ISBN: 0671702505) -0.4334737956523895\n",
      "- Distant Shores, Kristin Hannah, 2003 (ISBN: 0345450728) -0.43393510580062866\n",
      "- On the Road (Penguin 20th Century Classics), Jack Kerouac, 1998 (ISBN: 0140185216) -0.4345020353794098\n",
      "- Along Came Trouble, Sherryl Woods, 2002 (ISBN: 1551669552) -0.4353344738483429\n",
      "- New York Dead, Stuart Woods, 1992 (ISBN: 0061090808) -0.4358087480068207\n",
      "- Saving Faith, David Baldacci, 2000 (ISBN: 0446608890) -0.436331570148468\n",
      "- Mrs. Frisby and the Rats of Nimh, Robert C. O'Brien, 1986 (ISBN: 0689710682) -0.43669450283050537\n",
      "- Going Home, Danielle Steel, 1991 (ISBN: 0671749412) -0.4369412958621979\n"
     ]
    }
   ],
   "source": [
    "prediction(user_id, PredictionType.BEST, no_items, remove_rated=True)"
   ]
  },
  {
   "cell_type": "markdown",
   "id": "9ba73fa3",
   "metadata": {},
   "source": [
    "<h1>🔥 Single user prediction (new user with no ratings before - cold start)</h1>"
   ]
  },
  {
   "cell_type": "code",
   "execution_count": 61,
   "id": "2c9f64b9",
   "metadata": {},
   "outputs": [],
   "source": [
    "new_user_id = 123458\n",
    "new_features = [20.0, 'arden hills', 'minnesota', 'usa']\n",
    "\n",
    "# No ratings"
   ]
  },
  {
   "cell_type": "code",
   "execution_count": 62,
   "id": "6f6e1ada",
   "metadata": {},
   "outputs": [],
   "source": [
    "full_dataset.fit_partial(users=np.array([new_user_id]), \n",
    "                         user_features=new_features,\n",
    "                        )\n",
    "\n",
    "user_id_map, user_feature_map, item_id_map, item_feature_map = full_dataset.mapping()\n",
    "\n",
    "user_id_inverse_map = {v: k for k, v in user_id_map.items()}\n",
    "item_id_inverse_map = {v: k for k, v in item_id_map.items()}"
   ]
  },
  {
   "cell_type": "code",
   "execution_count": 63,
   "id": "d22ae6a6",
   "metadata": {},
   "outputs": [],
   "source": [
    "# New user features\n",
    "\n",
    "new_user_tuple = (new_user_id, new_features)\n",
    "user_features_matrix = full_dataset.build_user_features([new_user_tuple], normalize=False)"
   ]
  },
  {
   "cell_type": "code",
   "execution_count": 64,
   "id": "e0971b06",
   "metadata": {},
   "outputs": [
    {
     "name": "stderr",
     "output_type": "stream",
     "text": [
      "Epoch: 100%|██████████████████████████████████████| 1/1 [00:00<00:00,  6.22it/s]\n"
     ]
    },
    {
     "data": {
      "text/plain": [
       "<lightfm.lightfm.LightFM at 0x2a2ddb5d0>"
      ]
     },
     "execution_count": 64,
     "metadata": {},
     "output_type": "execute_result"
    }
   ],
   "source": [
    "model.fit(train_interactions,\n",
    "          sample_weight=train_weights,\n",
    "          user_features=user_features_matrix,\n",
    "          num_threads=4,\n",
    "          verbose=True,\n",
    "         )"
   ]
  },
  {
   "cell_type": "code",
   "execution_count": 65,
   "id": "ffe0372b",
   "metadata": {},
   "outputs": [
    {
     "name": "stdout",
     "output_type": "stream",
     "text": [
      "Predicted: best 10:\n",
      "- The Lovely Bones: A Novel, Alice Sebold, 2002 (ISBN: 0316666343) 0.23181331157684326\n",
      "- The Da Vinci Code, Dan Brown, 2003 (ISBN: 0385504209) 0.2015136033296585\n",
      "- Where the Heart Is (Oprah's Book Club (Paperback)), Billie Letts, 1998 (ISBN: 0446672211) 0.1726040542125702\n",
      "- The Secret Life of Bees, Sue Monk Kidd, 2003 (ISBN: 0142001740) 0.17200852930545807\n",
      "- Harry Potter and the Sorcerer's Stone (Harry Potter (Paperback)), J. K. Rowling, 1999 (ISBN: 059035342X) 0.16648104786872864\n",
      "- Angels &amp; Demons, Dan Brown, 2001 (ISBN: 0671027360) 0.16376429796218872\n",
      "- Interview with the Vampire, Anne Rice, 1993 (ISBN: 0345337662) 0.1624709814786911\n",
      "- The Red Tent (Bestselling Backlist), Anita Diamant, 1998 (ISBN: 0312195516) 0.16145862638950348\n",
      "- Divine Secrets of the Ya-Ya Sisterhood: A Novel, Rebecca Wells, 1997 (ISBN: 0060928336) 0.16013000905513763\n",
      "- The Pilot's Wife : A Novel, Anita Shreve, 1999 (ISBN: 0316601950) 0.15911899507045746\n"
     ]
    }
   ],
   "source": [
    "prediction(new_user_id, PredictionType.BEST, no_items, remove_rated=True)"
   ]
  },
  {
   "cell_type": "markdown",
   "id": "6e26dcef",
   "metadata": {},
   "source": [
    "<h1>Model save</h1>"
   ]
  },
  {
   "cell_type": "raw",
   "id": "f823a4e0",
   "metadata": {},
   "source": [
    "with open('lightfm_model.pkl', 'wb') as model_file:\n",
    "    pickle.dump(model, model_file)"
   ]
  },
  {
   "cell_type": "raw",
   "id": "f10e68b2",
   "metadata": {},
   "source": [
    "with open('lightfm_dataset.pkl', 'wb') as dataset_file:\n",
    "    pickle.dump(full_dataset, dataset_file)"
   ]
  },
  {
   "cell_type": "markdown",
   "id": "29429eb4",
   "metadata": {},
   "source": [
    "<h1>🔥 Single book prediction</h1>"
   ]
  },
  {
   "cell_type": "markdown",
   "id": "56e25858",
   "metadata": {},
   "source": [
    "Disclaimer - I only decided to use this approach after re-reading the task assignment as the nature of the dataset led me to the path of collaborative filtering approach."
   ]
  },
  {
   "cell_type": "raw",
   "id": "be18435b",
   "metadata": {},
   "source": [
    "nltk.download('stopwords')\n",
    "nltk.download('punkt')"
   ]
  },
  {
   "cell_type": "markdown",
   "id": "ef89071f",
   "metadata": {},
   "source": [
    "Better approach might be using the features separately and either average the similarities or adjust importance by adding weights"
   ]
  },
  {
   "cell_type": "code",
   "execution_count": 66,
   "id": "9e26e611",
   "metadata": {},
   "outputs": [],
   "source": [
    "# Concatenating Title, Author, YoP, Publisher\n",
    "# All could be relevant factors for similarity\n",
    "\n",
    "books[\"FullString\"] = (\n",
    "    books[\"Book-Title-Processed\"]+\", \"+\n",
    "    books[\"Book-Author\"]+\", \"+\n",
    "    str(books[\"Year-Of-Publication\"])+\", \"+\n",
    "    books[\"Publisher\"]\n",
    ")"
   ]
  },
  {
   "cell_type": "code",
   "execution_count": 67,
   "id": "4bacd907",
   "metadata": {},
   "outputs": [
    {
     "data": {
      "application/vnd.jupyter.widget-view+json": {
       "model_id": "1a80cdf5fc0d49d6af5b6310a1ddc5bc",
       "version_major": 2,
       "version_minor": 0
      },
      "text/plain": [
       "Dropdown(description='Choose a book:', options=(('George R. R. Martin - A Clash of Kings', '0553579908'), ('J.…"
      ]
     },
     "metadata": {},
     "output_type": "display_data"
    }
   ],
   "source": [
    "options = [\n",
    "    (\"George R. R. Martin - A Clash of Kings\", \"0553579908\"),\n",
    "    (\"J. R. R. Tolkien - The Return of the King\", \"0618002243\"),\n",
    "    (\"Haruki Murakami - Norwegian Wood\", \"0375704027\"),\n",
    "    (\"John Steinbeck - The Grapes of Wrath\", \"0140042393\"),\n",
    "    (\"Milan Kundera - The Unbearable Lightness of Being\", \"0060914653\"),\n",
    "]\n",
    "\n",
    "dropdown = Dropdown(\n",
    "    options=options,\n",
    "    description='Choose a book:',\n",
    ")\n",
    "\n",
    "display(dropdown)"
   ]
  },
  {
   "cell_type": "code",
   "execution_count": 68,
   "id": "3c876138",
   "metadata": {},
   "outputs": [],
   "source": [
    "# Getting Full String of our chosen book\n",
    "\n",
    "our_fav = books[books[\"ISBN\"]==dropdown.value][\"FullString\"].iloc[0] "
   ]
  },
  {
   "cell_type": "code",
   "execution_count": 69,
   "id": "2e09faff",
   "metadata": {},
   "outputs": [],
   "source": [
    "keys = books[\"ISBN\"]\n",
    "values = books.apply(lambda x: find_similarity(x[\"FullString\"], our_fav), axis=1)\n",
    "\n",
    "similarity_tpl = tuple(zip(keys,values))\n",
    "\n",
    "similarity_pd = pd.DataFrame(similarity_tpl)\n",
    "similarity_pd = similarity_pd.rename(columns={0: \"ISBN\", 1: \"Similarity\"})\n",
    "\n",
    "books_predicted = pd.merge(books, similarity_pd, on=\"ISBN\", how=\"inner\")"
   ]
  },
  {
   "cell_type": "code",
   "execution_count": 70,
   "id": "e0473610",
   "metadata": {},
   "outputs": [
    {
     "name": "stdout",
     "output_type": "stream",
     "text": [
      "Our chosen book: \n"
     ]
    },
    {
     "data": {
      "text/html": [
       "<div>\n",
       "<style scoped>\n",
       "    .dataframe tbody tr th:only-of-type {\n",
       "        vertical-align: middle;\n",
       "    }\n",
       "\n",
       "    .dataframe tbody tr th {\n",
       "        vertical-align: top;\n",
       "    }\n",
       "\n",
       "    .dataframe thead th {\n",
       "        text-align: right;\n",
       "    }\n",
       "</style>\n",
       "<table border=\"1\" class=\"dataframe\">\n",
       "  <thead>\n",
       "    <tr style=\"text-align: right;\">\n",
       "      <th></th>\n",
       "      <th>Book-Author</th>\n",
       "      <th>Book-Title</th>\n",
       "      <th>Year-Of-Publication</th>\n",
       "      <th>Publisher</th>\n",
       "      <th>FullString</th>\n",
       "    </tr>\n",
       "  </thead>\n",
       "  <tbody>\n",
       "    <tr>\n",
       "      <th>4714</th>\n",
       "      <td>George R. R. Martin</td>\n",
       "      <td>A Clash of Kings (A Song of Fire and Ice, Book 2)</td>\n",
       "      <td>2000</td>\n",
       "      <td>Spectra Books</td>\n",
       "      <td>Clash Kings ( Song Fire Ice ,  ), George R. R....</td>\n",
       "    </tr>\n",
       "  </tbody>\n",
       "</table>\n",
       "</div>"
      ],
      "text/plain": [
       "              Book-Author                                         Book-Title  \\\n",
       "4714  George R. R. Martin  A Clash of Kings (A Song of Fire and Ice, Book 2)   \n",
       "\n",
       "     Year-Of-Publication      Publisher  \\\n",
       "4714                2000  Spectra Books   \n",
       "\n",
       "                                             FullString  \n",
       "4714  Clash Kings ( Song Fire Ice ,  ), George R. R....  "
      ]
     },
     "execution_count": 70,
     "metadata": {},
     "output_type": "execute_result"
    }
   ],
   "source": [
    "print(\"Our chosen book: \")\n",
    "books[books[\"ISBN\"]==dropdown.value][[\"Book-Author\", \"Book-Title\",\"Year-Of-Publication\", \"Publisher\", \"FullString\"]]"
   ]
  },
  {
   "cell_type": "code",
   "execution_count": 71,
   "id": "c0df625f",
   "metadata": {},
   "outputs": [
    {
     "name": "stdout",
     "output_type": "stream",
     "text": [
      "Predictions: \n"
     ]
    },
    {
     "data": {
      "text/html": [
       "<div>\n",
       "<style scoped>\n",
       "    .dataframe tbody tr th:only-of-type {\n",
       "        vertical-align: middle;\n",
       "    }\n",
       "\n",
       "    .dataframe tbody tr th {\n",
       "        vertical-align: top;\n",
       "    }\n",
       "\n",
       "    .dataframe thead th {\n",
       "        text-align: right;\n",
       "    }\n",
       "</style>\n",
       "<table border=\"1\" class=\"dataframe\">\n",
       "  <thead>\n",
       "    <tr style=\"text-align: right;\">\n",
       "      <th></th>\n",
       "      <th>Book-Author</th>\n",
       "      <th>Book-Title</th>\n",
       "      <th>Year-Of-Publication</th>\n",
       "      <th>Publisher</th>\n",
       "      <th>FullString</th>\n",
       "      <th>Similarity</th>\n",
       "    </tr>\n",
       "  </thead>\n",
       "  <tbody>\n",
       "    <tr>\n",
       "      <th>1429</th>\n",
       "      <td>George R. R. Martin</td>\n",
       "      <td>A Clash of Kings (A Song of Fire and Ice, Book 2)</td>\n",
       "      <td>2000</td>\n",
       "      <td>Spectra Books</td>\n",
       "      <td>Clash Kings ( Song Fire Ice ,  ), George R. R....</td>\n",
       "      <td>1.000000</td>\n",
       "    </tr>\n",
       "    <tr>\n",
       "      <th>1428</th>\n",
       "      <td>George R.R. Martin</td>\n",
       "      <td>A Game of Thrones (A Song of Ice and Fire, Boo...</td>\n",
       "      <td>1997</td>\n",
       "      <td>Spectra Books</td>\n",
       "      <td>Game Thrones ( Song Ice Fire ,  ), George R.R....</td>\n",
       "      <td>0.994204</td>\n",
       "    </tr>\n",
       "    <tr>\n",
       "      <th>328</th>\n",
       "      <td>W. Michael Gear</td>\n",
       "      <td>People of the Wolf (The First North Americans ...</td>\n",
       "      <td>1992</td>\n",
       "      <td>Tor Books</td>\n",
       "      <td>People Wolf ( First North Americans series ,  ...</td>\n",
       "      <td>0.980525</td>\n",
       "    </tr>\n",
       "    <tr>\n",
       "      <th>1573</th>\n",
       "      <td>J. K. Rowling</td>\n",
       "      <td>Harry Potter and the Goblet of Fire (Book 4)</td>\n",
       "      <td>2000</td>\n",
       "      <td>Scholastic</td>\n",
       "      <td>Harry Potter Goblet Fire (  ), J. K. Rowling, ...</td>\n",
       "      <td>0.980112</td>\n",
       "    </tr>\n",
       "    <tr>\n",
       "      <th>2555</th>\n",
       "      <td>W. Michael Gear</td>\n",
       "      <td>People of the River (The First North Americans...</td>\n",
       "      <td>1993</td>\n",
       "      <td>Tor Books</td>\n",
       "      <td>People River ( First North Americans series , ...</td>\n",
       "      <td>0.979874</td>\n",
       "    </tr>\n",
       "    <tr>\n",
       "      <th>...</th>\n",
       "      <td>...</td>\n",
       "      <td>...</td>\n",
       "      <td>...</td>\n",
       "      <td>...</td>\n",
       "      <td>...</td>\n",
       "      <td>...</td>\n",
       "    </tr>\n",
       "    <tr>\n",
       "      <th>3472</th>\n",
       "      <td>Richard Carlson</td>\n",
       "      <td>Don't Sweat the Small Stuff with Your Family :...</td>\n",
       "      <td>1998</td>\n",
       "      <td>Hyperion</td>\n",
       "      <td>n't Sweat Small Stuff Family : Simple Ways Kee...</td>\n",
       "      <td>0.920622</td>\n",
       "    </tr>\n",
       "    <tr>\n",
       "      <th>1869</th>\n",
       "      <td>Vicki Iovine</td>\n",
       "      <td>The Girlfriends' Guide to Surviving the First ...</td>\n",
       "      <td>1997</td>\n",
       "      <td>Perigee Books</td>\n",
       "      <td>Girlfriends ' Guide Surviving First Year Mothe...</td>\n",
       "      <td>0.919383</td>\n",
       "    </tr>\n",
       "    <tr>\n",
       "      <th>4649</th>\n",
       "      <td>Editors Prevention Health Books</td>\n",
       "      <td>The Doctor's Book of Home Remedies : Thousands...</td>\n",
       "      <td>1990</td>\n",
       "      <td>Rodale Books</td>\n",
       "      <td>Doctor 's Book Home Remedies : Thousands Tips ...</td>\n",
       "      <td>0.919155</td>\n",
       "    </tr>\n",
       "    <tr>\n",
       "      <th>1430</th>\n",
       "      <td>Doug Lansky</td>\n",
       "      <td>There's No Toilet Paper on the Road Less Trave...</td>\n",
       "      <td>1998</td>\n",
       "      <td>Travelers' Tales Guides</td>\n",
       "      <td>'s Toilet Paper Road Less Traveled : Best Trav...</td>\n",
       "      <td>0.909130</td>\n",
       "    </tr>\n",
       "    <tr>\n",
       "      <th>5118</th>\n",
       "      <td>Andrew Weil</td>\n",
       "      <td>Eight Weeks to Optimum Health: A Proven Progra...</td>\n",
       "      <td>1997</td>\n",
       "      <td>Alfred A. Knopf</td>\n",
       "      <td>Eight Weeks Optimum Health : Proven Program Ta...</td>\n",
       "      <td>0.894186</td>\n",
       "    </tr>\n",
       "  </tbody>\n",
       "</table>\n",
       "<p>5412 rows × 6 columns</p>\n",
       "</div>"
      ],
      "text/plain": [
       "                          Book-Author  \\\n",
       "1429              George R. R. Martin   \n",
       "1428               George R.R. Martin   \n",
       "328                   W. Michael Gear   \n",
       "1573                    J. K. Rowling   \n",
       "2555                  W. Michael Gear   \n",
       "...                               ...   \n",
       "3472                  Richard Carlson   \n",
       "1869                     Vicki Iovine   \n",
       "4649  Editors Prevention Health Books   \n",
       "1430                      Doug Lansky   \n",
       "5118                      Andrew Weil   \n",
       "\n",
       "                                             Book-Title Year-Of-Publication  \\\n",
       "1429  A Clash of Kings (A Song of Fire and Ice, Book 2)                2000   \n",
       "1428  A Game of Thrones (A Song of Ice and Fire, Boo...                1997   \n",
       "328   People of the Wolf (The First North Americans ...                1992   \n",
       "1573       Harry Potter and the Goblet of Fire (Book 4)                2000   \n",
       "2555  People of the River (The First North Americans...                1993   \n",
       "...                                                 ...                 ...   \n",
       "3472  Don't Sweat the Small Stuff with Your Family :...                1998   \n",
       "1869  The Girlfriends' Guide to Surviving the First ...                1997   \n",
       "4649  The Doctor's Book of Home Remedies : Thousands...                1990   \n",
       "1430  There's No Toilet Paper on the Road Less Trave...                1998   \n",
       "5118  Eight Weeks to Optimum Health: A Proven Progra...                1997   \n",
       "\n",
       "                    Publisher  \\\n",
       "1429            Spectra Books   \n",
       "1428            Spectra Books   \n",
       "328                 Tor Books   \n",
       "1573               Scholastic   \n",
       "2555                Tor Books   \n",
       "...                       ...   \n",
       "3472                 Hyperion   \n",
       "1869            Perigee Books   \n",
       "4649             Rodale Books   \n",
       "1430  Travelers' Tales Guides   \n",
       "5118          Alfred A. Knopf   \n",
       "\n",
       "                                             FullString  Similarity  \n",
       "1429  Clash Kings ( Song Fire Ice ,  ), George R. R....    1.000000  \n",
       "1428  Game Thrones ( Song Ice Fire ,  ), George R.R....    0.994204  \n",
       "328   People Wolf ( First North Americans series ,  ...    0.980525  \n",
       "1573  Harry Potter Goblet Fire (  ), J. K. Rowling, ...    0.980112  \n",
       "2555  People River ( First North Americans series , ...    0.979874  \n",
       "...                                                 ...         ...  \n",
       "3472  n't Sweat Small Stuff Family : Simple Ways Kee...    0.920622  \n",
       "1869  Girlfriends ' Guide Surviving First Year Mothe...    0.919383  \n",
       "4649  Doctor 's Book Home Remedies : Thousands Tips ...    0.919155  \n",
       "1430  's Toilet Paper Road Less Traveled : Best Trav...    0.909130  \n",
       "5118  Eight Weeks Optimum Health : Proven Program Ta...    0.894186  \n",
       "\n",
       "[5412 rows x 6 columns]"
      ]
     },
     "execution_count": 71,
     "metadata": {},
     "output_type": "execute_result"
    }
   ],
   "source": [
    "print(\"Predictions: \")\n",
    "books_predicted.sort_values(by=\"Similarity\", ascending=False)[[\"Book-Author\", \"Book-Title\",\"Year-Of-Publication\", \"Publisher\", \"FullString\", \"Similarity\"]]"
   ]
  },
  {
   "cell_type": "markdown",
   "id": "08d1e5f4",
   "metadata": {},
   "source": [
    "<h1>🔥 Single book prediction (with genre, pages and keywords from OpenAI API)</h1>"
   ]
  },
  {
   "cell_type": "code",
   "execution_count": 72,
   "id": "d11c5dc2",
   "metadata": {},
   "outputs": [],
   "source": [
    "# Reading csv with expansion info based on the OpenAI script below (last section)\n",
    "\n",
    "books_extension = pd.read_csv(\"data/books_expanded.csv\")\n",
    "\n",
    "books_expanded = pd.merge(books, books_extension, on=\"ISBN\", how=\"inner\")"
   ]
  },
  {
   "cell_type": "code",
   "execution_count": 73,
   "id": "d5da987c",
   "metadata": {},
   "outputs": [],
   "source": [
    "# Concatenating Title, Author, YoP. Leaving out Publisher. Adding Genre, Keywords and Number of pages based on OpenAI API data.\n",
    "\n",
    "books_expanded[\"FullString\"] = (\n",
    "    books_expanded[\"Book-Title-Processed\"]+\", \"+\n",
    "    books_expanded[\"Book-Author\"]+\", \"+\n",
    "    str(books_expanded[\"Year-Of-Publication\"])+\", \"+\n",
    "    books_expanded[\"Genre\"]+\", \"+\n",
    "    books_expanded[\"Keywords\"]+\", \"+\n",
    "    books_expanded[\"Pages\"]\n",
    ")"
   ]
  },
  {
   "cell_type": "code",
   "execution_count": 74,
   "id": "a24d5ea3",
   "metadata": {},
   "outputs": [
    {
     "data": {
      "application/vnd.jupyter.widget-view+json": {
       "model_id": "f9ec9a98760842d195a1d2ac9bc1251e",
       "version_major": 2,
       "version_minor": 0
      },
      "text/plain": [
       "Dropdown(description='Choose a book:', options=(('George R. R. Martin - A Clash of Kings', '0553579908'), ('J.…"
      ]
     },
     "metadata": {},
     "output_type": "display_data"
    }
   ],
   "source": [
    "options = [\n",
    "    (\"George R. R. Martin - A Clash of Kings\", \"0553579908\"),\n",
    "    (\"J. R. R. Tolkien - The Return of the King\", \"0618002243\"),\n",
    "    (\"Haruki Murakami - Norwegian Wood\", \"0375704027\"),\n",
    "    (\"John Steinbeck - The Grapes of Wrath\", \"0140042393\"),\n",
    "    (\"Milan Kundera - The Unbearable Lightness of Being\", \"0060914653\"),\n",
    "]\n",
    "\n",
    "dropdown = Dropdown(\n",
    "    options=options,\n",
    "    description='Choose a book:',\n",
    ")\n",
    "\n",
    "display(dropdown)"
   ]
  },
  {
   "cell_type": "code",
   "execution_count": 75,
   "id": "5f48557b",
   "metadata": {},
   "outputs": [],
   "source": [
    "our_fav = books_expanded[books_expanded[\"ISBN\"]==dropdown.value][\"FullString\"].iloc[0] "
   ]
  },
  {
   "cell_type": "code",
   "execution_count": 76,
   "id": "ccb9965c",
   "metadata": {},
   "outputs": [],
   "source": [
    "keys = books_expanded[\"ISBN\"]\n",
    "values = books_expanded.apply(lambda x: find_similarity(x[\"FullString\"], our_fav), axis=1)\n",
    "\n",
    "similarity_tpl = tuple(zip(keys,values))\n",
    "\n",
    "similarity_pd = pd.DataFrame(similarity_tpl)\n",
    "\n",
    "similarity_pd = similarity_pd.rename(columns={0: \"ISBN\", 1: \"Similarity\"})\n",
    "\n",
    "books_expanded_predicted = pd.merge(books_expanded, similarity_pd, on=\"ISBN\", how=\"inner\")"
   ]
  },
  {
   "cell_type": "code",
   "execution_count": 77,
   "id": "6bf8ec04",
   "metadata": {},
   "outputs": [
    {
     "name": "stdout",
     "output_type": "stream",
     "text": [
      "\n",
      "Our favorite book:\n"
     ]
    },
    {
     "data": {
      "text/html": [
       "<div>\n",
       "<style scoped>\n",
       "    .dataframe tbody tr th:only-of-type {\n",
       "        vertical-align: middle;\n",
       "    }\n",
       "\n",
       "    .dataframe tbody tr th {\n",
       "        vertical-align: top;\n",
       "    }\n",
       "\n",
       "    .dataframe thead th {\n",
       "        text-align: right;\n",
       "    }\n",
       "</style>\n",
       "<table border=\"1\" class=\"dataframe\">\n",
       "  <thead>\n",
       "    <tr style=\"text-align: right;\">\n",
       "      <th></th>\n",
       "      <th>Book-Author</th>\n",
       "      <th>Book-Title</th>\n",
       "      <th>Year-Of-Publication</th>\n",
       "      <th>Genre</th>\n",
       "      <th>Keywords</th>\n",
       "      <th>Pages</th>\n",
       "    </tr>\n",
       "  </thead>\n",
       "  <tbody>\n",
       "    <tr>\n",
       "      <th>1082</th>\n",
       "      <td>George R. R. Martin</td>\n",
       "      <td>A Clash of Kings (A Song of Fire and Ice, Book 2)</td>\n",
       "      <td>2000</td>\n",
       "      <td>Fantasy</td>\n",
       "      <td>War, Politics, Intrigue, Betrayal, Power, Drag...</td>\n",
       "      <td>969</td>\n",
       "    </tr>\n",
       "  </tbody>\n",
       "</table>\n",
       "</div>"
      ],
      "text/plain": [
       "              Book-Author                                         Book-Title  \\\n",
       "1082  George R. R. Martin  A Clash of Kings (A Song of Fire and Ice, Book 2)   \n",
       "\n",
       "     Year-Of-Publication    Genre  \\\n",
       "1082                2000  Fantasy   \n",
       "\n",
       "                                               Keywords Pages  \n",
       "1082  War, Politics, Intrigue, Betrayal, Power, Drag...   969  "
      ]
     },
     "execution_count": 77,
     "metadata": {},
     "output_type": "execute_result"
    }
   ],
   "source": [
    "print(\"\")\n",
    "print(\"Our favorite book:\")\n",
    "books_expanded[books_expanded[\"ISBN\"]==dropdown.value][[\"Book-Author\", \"Book-Title\",\"Year-Of-Publication\",\"Genre\", \"Keywords\", \"Pages\"]]"
   ]
  },
  {
   "cell_type": "code",
   "execution_count": 78,
   "id": "b2330b80",
   "metadata": {},
   "outputs": [
    {
     "name": "stdout",
     "output_type": "stream",
     "text": [
      "\n",
      "Predictions: \n"
     ]
    },
    {
     "data": {
      "text/html": [
       "<div>\n",
       "<style scoped>\n",
       "    .dataframe tbody tr th:only-of-type {\n",
       "        vertical-align: middle;\n",
       "    }\n",
       "\n",
       "    .dataframe tbody tr th {\n",
       "        vertical-align: top;\n",
       "    }\n",
       "\n",
       "    .dataframe thead th {\n",
       "        text-align: right;\n",
       "    }\n",
       "</style>\n",
       "<table border=\"1\" class=\"dataframe\">\n",
       "  <thead>\n",
       "    <tr style=\"text-align: right;\">\n",
       "      <th></th>\n",
       "      <th>Book-Author</th>\n",
       "      <th>Book-Title</th>\n",
       "      <th>Year-Of-Publication</th>\n",
       "      <th>Genre</th>\n",
       "      <th>Keywords</th>\n",
       "      <th>Pages</th>\n",
       "      <th>Similarity</th>\n",
       "    </tr>\n",
       "  </thead>\n",
       "  <tbody>\n",
       "    <tr>\n",
       "      <th>1082</th>\n",
       "      <td>George R. R. Martin</td>\n",
       "      <td>A Clash of Kings (A Song of Fire and Ice, Book 2)</td>\n",
       "      <td>2000</td>\n",
       "      <td>Fantasy</td>\n",
       "      <td>War, Politics, Intrigue, Betrayal, Power, Drag...</td>\n",
       "      <td>969</td>\n",
       "      <td>1.000000</td>\n",
       "    </tr>\n",
       "    <tr>\n",
       "      <th>1081</th>\n",
       "      <td>George R.R. Martin</td>\n",
       "      <td>A Game of Thrones (A Song of Ice and Fire, Boo...</td>\n",
       "      <td>1997</td>\n",
       "      <td>Fantasy</td>\n",
       "      <td>Epic, Intrigue, Politics, War, Betrayal, Power...</td>\n",
       "      <td>694</td>\n",
       "      <td>0.988513</td>\n",
       "    </tr>\n",
       "    <tr>\n",
       "      <th>631</th>\n",
       "      <td>Robert Jordan</td>\n",
       "      <td>The Shadow Rising (The Wheel of Time, Book 4)</td>\n",
       "      <td>1993</td>\n",
       "      <td>Fantasy</td>\n",
       "      <td>Epic, Adventure, Magic, Prophecy, Intrigue, Po...</td>\n",
       "      <td>1008</td>\n",
       "      <td>0.978073</td>\n",
       "    </tr>\n",
       "    <tr>\n",
       "      <th>2104</th>\n",
       "      <td>J. R. R. Tolkien</td>\n",
       "      <td>The Return of the King (The Lord of The Rings,...</td>\n",
       "      <td>1999</td>\n",
       "      <td>Fantasy</td>\n",
       "      <td>Adventure, Epic, Quest, Magic, War, Friendship...</td>\n",
       "      <td>416</td>\n",
       "      <td>0.976525</td>\n",
       "    </tr>\n",
       "    <tr>\n",
       "      <th>980</th>\n",
       "      <td>J.R.R. TOLKIEN</td>\n",
       "      <td>The Return of the King (The Lord of the Rings,...</td>\n",
       "      <td>1986</td>\n",
       "      <td>Fantasy</td>\n",
       "      <td>Adventure, Epic, Quest, Magic, War, Friendship...</td>\n",
       "      <td>432</td>\n",
       "      <td>0.975372</td>\n",
       "    </tr>\n",
       "    <tr>\n",
       "      <th>...</th>\n",
       "      <td>...</td>\n",
       "      <td>...</td>\n",
       "      <td>...</td>\n",
       "      <td>...</td>\n",
       "      <td>...</td>\n",
       "      <td>...</td>\n",
       "      <td>...</td>\n",
       "    </tr>\n",
       "    <tr>\n",
       "      <th>612</th>\n",
       "      <td>Jack Canfield</td>\n",
       "      <td>Chicken Soup for the College Soul : Inspiring ...</td>\n",
       "      <td>1999</td>\n",
       "      <td>Non-fiction, Self-help</td>\n",
       "      <td>College, Students, Inspirational, Humorous, St...</td>\n",
       "      <td>352</td>\n",
       "      <td>0.903002</td>\n",
       "    </tr>\n",
       "    <tr>\n",
       "      <th>1771</th>\n",
       "      <td>Ann Rule</td>\n",
       "      <td>A Rage To Kill and Other True Cases : Anne Rul...</td>\n",
       "      <td>1999</td>\n",
       "      <td>True Crime</td>\n",
       "      <td>True Crime, Murder, Ann Rule, Crime Files, Ser...</td>\n",
       "      <td>352</td>\n",
       "      <td>0.902306</td>\n",
       "    </tr>\n",
       "    <tr>\n",
       "      <th>776</th>\n",
       "      <td>Richard Carlson</td>\n",
       "      <td>Don't Sweat the Small Stuff and It's All Small...</td>\n",
       "      <td>1997</td>\n",
       "      <td>Self-help</td>\n",
       "      <td>stress, anxiety, mindfulness, happiness, peace...</td>\n",
       "      <td>272</td>\n",
       "      <td>0.901082</td>\n",
       "    </tr>\n",
       "    <tr>\n",
       "      <th>2672</th>\n",
       "      <td>Tim Lahaye</td>\n",
       "      <td>Apollyon: The Destroyer Is Unleashed (Left Beh...</td>\n",
       "      <td>1999</td>\n",
       "      <td>Christian fiction, Science fiction, Apocalypti...</td>\n",
       "      <td>Apollyon, Destroyer, Unleashed, Left Behind, T...</td>\n",
       "      <td>416</td>\n",
       "      <td>0.900759</td>\n",
       "    </tr>\n",
       "    <tr>\n",
       "      <th>2369</th>\n",
       "      <td>Richard Carlson</td>\n",
       "      <td>Don't Sweat the Small Stuff with Your Family :...</td>\n",
       "      <td>1998</td>\n",
       "      <td>Self-help, Family &amp; Relationships</td>\n",
       "      <td>family, responsibilities, household chaos, dai...</td>\n",
       "      <td>272</td>\n",
       "      <td>0.887168</td>\n",
       "    </tr>\n",
       "  </tbody>\n",
       "</table>\n",
       "<p>3140 rows × 7 columns</p>\n",
       "</div>"
      ],
      "text/plain": [
       "              Book-Author                                         Book-Title  \\\n",
       "1082  George R. R. Martin  A Clash of Kings (A Song of Fire and Ice, Book 2)   \n",
       "1081   George R.R. Martin  A Game of Thrones (A Song of Ice and Fire, Boo...   \n",
       "631         Robert Jordan      The Shadow Rising (The Wheel of Time, Book 4)   \n",
       "2104     J. R. R. Tolkien  The Return of the King (The Lord of The Rings,...   \n",
       "980        J.R.R. TOLKIEN  The Return of the King (The Lord of the Rings,...   \n",
       "...                   ...                                                ...   \n",
       "612         Jack Canfield  Chicken Soup for the College Soul : Inspiring ...   \n",
       "1771             Ann Rule  A Rage To Kill and Other True Cases : Anne Rul...   \n",
       "776       Richard Carlson  Don't Sweat the Small Stuff and It's All Small...   \n",
       "2672           Tim Lahaye  Apollyon: The Destroyer Is Unleashed (Left Beh...   \n",
       "2369      Richard Carlson  Don't Sweat the Small Stuff with Your Family :...   \n",
       "\n",
       "     Year-Of-Publication                                              Genre  \\\n",
       "1082                2000                                            Fantasy   \n",
       "1081                1997                                            Fantasy   \n",
       "631                 1993                                            Fantasy   \n",
       "2104                1999                                            Fantasy   \n",
       "980                 1986                                            Fantasy   \n",
       "...                  ...                                                ...   \n",
       "612                 1999                             Non-fiction, Self-help   \n",
       "1771                1999                                         True Crime   \n",
       "776                 1997                                          Self-help   \n",
       "2672                1999  Christian fiction, Science fiction, Apocalypti...   \n",
       "2369                1998                  Self-help, Family & Relationships   \n",
       "\n",
       "                                               Keywords Pages  Similarity  \n",
       "1082  War, Politics, Intrigue, Betrayal, Power, Drag...   969    1.000000  \n",
       "1081  Epic, Intrigue, Politics, War, Betrayal, Power...   694    0.988513  \n",
       "631   Epic, Adventure, Magic, Prophecy, Intrigue, Po...  1008    0.978073  \n",
       "2104  Adventure, Epic, Quest, Magic, War, Friendship...   416    0.976525  \n",
       "980   Adventure, Epic, Quest, Magic, War, Friendship...   432    0.975372  \n",
       "...                                                 ...   ...         ...  \n",
       "612   College, Students, Inspirational, Humorous, St...   352    0.903002  \n",
       "1771  True Crime, Murder, Ann Rule, Crime Files, Ser...   352    0.902306  \n",
       "776   stress, anxiety, mindfulness, happiness, peace...   272    0.901082  \n",
       "2672  Apollyon, Destroyer, Unleashed, Left Behind, T...   416    0.900759  \n",
       "2369  family, responsibilities, household chaos, dai...   272    0.887168  \n",
       "\n",
       "[3140 rows x 7 columns]"
      ]
     },
     "execution_count": 78,
     "metadata": {},
     "output_type": "execute_result"
    }
   ],
   "source": [
    "print(\"\")\n",
    "print(\"Predictions: \")\n",
    "books_expanded_predicted.sort_values(by=\"Similarity\", ascending=False)[[\"Book-Author\", \"Book-Title\",\"Year-Of-Publication\",\"Genre\", \"Keywords\", \"Pages\", \"Similarity\"]]"
   ]
  },
  {
   "cell_type": "markdown",
   "id": "63fcfa2f",
   "metadata": {},
   "source": [
    "### Idea for improvement -> removing the same books under different ISBN."
   ]
  },
  {
   "cell_type": "markdown",
   "id": "62f2eecb",
   "metadata": {},
   "source": [
    "# 🔥 Productionalisation description\n",
    "\n",
    "#### AWS Environment\n",
    "\n",
    "- transforming into correct input format on frontend (simple input transformation could also be done within Lambda)\n",
    "    - (LightFM) User Ratings + User Features\n",
    "    - (Cosine Similarity) Book string including processed Book Title + Author + YoP + (Publisher) + (Genre) + (No. Pages) + (Keywords)\n",
    "- sending this input over API Gateway as a REST API\n",
    "- API Gateway triggers Lambda and sends the user input\n",
    "- Lambda fetches the model from S3\n",
    "- now, if the size of the Python dependent libraries is less than 250MB, the prediction could be made within Lambda\n",
    "- if the size of libraries is larger (most cases), the prediction needs to be done on SageMaker endpoint (server solution) or some serverless on-demand solution I am not yet aware of (maybe https://www.modelbit.com?)\n",
    "- sending back the results (top5 most similar items - ISBN + probability for ordering)\n",
    "- frontend matches the ISBN with items in database (S3?)and fetches full data about the item"
   ]
  },
  {
   "cell_type": "markdown",
   "id": "605f04f6",
   "metadata": {},
   "source": [
    "<h1>🔥 OpenAI API for Genres and Short Descriptions</h1>"
   ]
  },
  {
   "cell_type": "raw",
   "id": "b26f836f",
   "metadata": {},
   "source": [
    "import openai\n",
    "import os\n",
    "from concurrent.futures import ThreadPoolExecutor\n",
    "from datetime import datetime\n",
    "import json"
   ]
  },
  {
   "cell_type": "raw",
   "id": "8a663cb1",
   "metadata": {},
   "source": [
    "os.environ['OPENAI_API_KEY'] = 'XXX' # :))"
   ]
  },
  {
   "cell_type": "raw",
   "id": "0b0c6b43",
   "metadata": {},
   "source": [
    "api_key = os.getenv('OPENAI_API_KEY')\n",
    "\n",
    "if api_key is None:\n",
    "    raise Exception(\"API key not found. Please set the OPENAI_API_KEY environment variable.\")\n",
    "\n",
    "client = openai.OpenAI(api_key=api_key)\n",
    "\n",
    "def fetch_completion(book):\n",
    "    response = client.chat.completions.create(\n",
    "        messages=[\n",
    "            {\n",
    "                \"role\": \"user\",\n",
    "                \"content\": f\"For {book['Book-Title']} by {book['Book-Author']} provide genre, number of pages and 10 book comma-separated keywords. Return in following format: [\\\"Genre\\\": \\\"result\\\", \\\"Pages\\\": \\\"result\\\", \\\"Keywords\\\": \\\"results\\\"].\"\n",
    "            }\n",
    "        ],\n",
    "        model=\"gpt-3.5-turbo\",\n",
    "        temperature=0,\n",
    "        top_p=0,\n",
    "    )\n",
    "    return response.choices[0], book[\"ISBN\"]"
   ]
  },
  {
   "cell_type": "raw",
   "id": "147cb46a",
   "metadata": {},
   "source": [
    "books_sample = books\n",
    "\n",
    "isbns = custom_dict = [{'Book-Author': row['Book-Author'], 'Book-Title': row['Book-Title'], 'ISBN': row['ISBN']} for index, row in books_sample.iterrows()]"
   ]
  },
  {
   "cell_type": "raw",
   "id": "c3962b38",
   "metadata": {},
   "source": [
    "start_time = datetime.now()\n",
    "\n",
    "with ThreadPoolExecutor(max_workers=8) as executor:\n",
    "    results = list(executor.map(fetch_completion, isbns))\n",
    "    \n",
    "end_time = datetime.now()\n",
    "\n",
    "duration = end_time - start_time\n",
    "print(\"Time taken:\", duration, \"seconds. For\", len(isbns), \"values.\")\n",
    "\n",
    "# Time taken: 0:10:25.329647 seconds. For 3140 values.\n",
    "# Cost about $0.5"
   ]
  },
  {
   "cell_type": "raw",
   "id": "8e20e243",
   "metadata": {},
   "source": [
    "genres_desc = pd.DataFrame(columns=[\"ISBN\", \"Genre\", \"Pages\", \"Keywords\"])\n",
    "\n",
    "for result in results:\n",
    "    isbn = result[1]\n",
    "    \n",
    "    data_string = result[0].message.content.replace(\"[\",\"{\").replace(\"]\",\"}\").replace(\".\",\"\")\n",
    "    \n",
    "    try:\n",
    "        data_dict = json.loads(data_string)\n",
    "    except json.JSONDecodeError as e:\n",
    "        print(\"JSON decode error:\", e)\n",
    "        print(data_string)\n",
    "    \n",
    "    genre = data_dict[\"Genre\"]\n",
    "    pages = data_dict[\"Pages\"]\n",
    "    keywords = data_dict[\"Keywords\"]\n",
    "    \n",
    "    new_entry = pd.DataFrame({\"ISBN\": [isbn],\n",
    "                             \"Genre\": [genre],\n",
    "                             \"Pages\": [pages],\n",
    "                             \"Keywords\": [keywords],})\n",
    "    \n",
    "    genres_desc = pd.concat([genres_desc, new_entry], ignore_index=True)"
   ]
  },
  {
   "cell_type": "raw",
   "id": "13d0e152",
   "metadata": {},
   "source": [
    "genres_desc"
   ]
  },
  {
   "cell_type": "raw",
   "id": "c7757038",
   "metadata": {},
   "source": [
    "genres_desc.to_csv(\"data/books_expanded.csv\", index=False)"
   ]
  }
 ],
 "metadata": {
  "kernelspec": {
   "display_name": "Python 3 (ipykernel)",
   "language": "python",
   "name": "python3"
  },
  "language_info": {
   "codemirror_mode": {
    "name": "ipython",
    "version": 3
   },
   "file_extension": ".py",
   "mimetype": "text/x-python",
   "name": "python",
   "nbconvert_exporter": "python",
   "pygments_lexer": "ipython3",
   "version": "3.11.5"
  }
 },
 "nbformat": 4,
 "nbformat_minor": 5
}
